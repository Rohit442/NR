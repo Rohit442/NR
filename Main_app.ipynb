{
 "cells": [
  {
   "cell_type": "code",
   "execution_count": 1,
   "metadata": {},
   "outputs": [],
   "source": [
    "from fastai.vision import load_learner,ImageList,DatasetType,open_image,Path\n",
    "import pandas as pd\n",
    "import warnings\n",
    "import numpy as np\n",
    "from flask import Flask, request, render_template\n",
    "from werkzeug.utils import secure_filename\n",
    "warnings.filterwarnings('ignore')\n",
    "\n",
    "df= pd.read_csv('/media/praveenkanna/Local disk/Workspace/Fashion_Classification-Myntra_Dataset/Training_labels/labels.csv',header=None)\n"
   ]
  },
  {
   "cell_type": "code",
   "execution_count": 8,
   "metadata": {},
   "outputs": [],
   "source": [
    "model= '/media/praveenkanna/Local disk/Workspace/Fashion_Classification-Myntra_Dataset/model'\n",
    "learn = load_learner(model)\n"
   ]
  },
  {
   "cell_type": "code",
   "execution_count": 9,
   "metadata": {},
   "outputs": [],
   "source": [
    "def get_label(predicted_class):\n",
    "    return df[0].iloc[predicted_class]\n",
    "    "
   ]
  },
  {
   "cell_type": "code",
   "execution_count": 23,
   "metadata": {},
   "outputs": [],
   "source": [
    "def print_top_5_pred(preds):\n",
    "    idx=np.unravel_index(preds.numpy().argsort(axis=None), dims=preds.numpy().shape)\n",
    "    top_5_pred=idx[1][-5:]\n",
    "    return_msg=\"\"\n",
    "    for i,val in enumerate(top_5_pred[::-1]):\n",
    "        return_msg +=str(str(i+1)+\"-->\"+str(get_label(val))+\"-->Probability:{:.2f}%\\n\".format(np.round(preds[0][val].numpy()*100),2)+\"\\n\")\n",
    "        \n",
    "    return return_msg"
   ]
  },
  {
   "cell_type": "code",
   "execution_count": 2,
   "metadata": {},
   "outputs": [],
   "source": [
    "def delete_uploadfiles(upload_path):\n",
    "    for file in Path(upload_path).glob('*'):\n",
    "        try:\n",
    "            print(\"deleted\",file)\n",
    "            file.unlink()\n",
    "            \n",
    "        except OSError as e:\n",
    "            print(\"Error: %s : %s\" % (f, e.strerror))\n",
    "    return True"
   ]
  },
  {
   "cell_type": "code",
   "execution_count": null,
   "metadata": {},
   "outputs": [],
   "source": []
  },
  {
   "cell_type": "code",
   "execution_count": 24,
   "metadata": {},
   "outputs": [
    {
     "name": "stdout",
     "output_type": "stream",
     "text": [
      "deleted static/upload/backpack.png\n",
      " * Serving Flask app \"__main__\" (lazy loading)\n",
      " * Environment: production\n",
      "\u001b[31m   WARNING: This is a development server. Do not use it in a production deployment.\u001b[0m\n",
      "\u001b[2m   Use a production WSGI server instead.\u001b[0m\n",
      " * Debug mode: off\n"
     ]
    },
    {
     "name": "stderr",
     "output_type": "stream",
     "text": [
      " * Running on http://127.0.0.1:5000/ (Press CTRL+C to quit)\n"
     ]
    },
    {
     "name": "stdout",
     "output_type": "stream",
     "text": [
      "Image saved\n"
     ]
    },
    {
     "name": "stderr",
     "output_type": "stream",
     "text": [
      "127.0.0.1 - - [01/Jun/2020 00:12:53] \"\u001b[37mPOST /uploader HTTP/1.1\u001b[0m\" 200 -\n"
     ]
    },
    {
     "name": "stdout",
     "output_type": "stream",
     "text": [
      "dict-->  {0: [PosixPath('static/upload/backpack.png'), 'Predicted Catagory: Backpacks-Unisex-Bags-Accessories', 'Probability:85.37%', '1-->Backpacks-Unisex-Bags-Accessories-->Probability:85.00%\\n\\n2-->Caps-Men-Headwear-Accessories-->Probability:5.00%\\n\\n3-->Caps-Unisex-Headwear-Accessories-->Probability:4.00%\\n\\n4-->Tshirts-Men-Topwear-Apparel-->Probability:2.00%\\n\\n5-->Sweatshirts-Men-Topwear-Apparel-->Probability:2.00%\\n\\n']}\n",
      "Image saved\n"
     ]
    },
    {
     "name": "stderr",
     "output_type": "stream",
     "text": [
      "127.0.0.1 - - [01/Jun/2020 00:16:38] \"\u001b[37mPOST /uploader HTTP/1.1\u001b[0m\" 200 -\n",
      "127.0.0.1 - - [01/Jun/2020 00:16:38] \"\u001b[37mGET /static/upload/dress4.jpg HTTP/1.1\u001b[0m\" 200 -\n"
     ]
    },
    {
     "name": "stdout",
     "output_type": "stream",
     "text": [
      "dict-->  {0: [PosixPath('static/upload/backpack.png'), 'Predicted Catagory: Backpacks-Unisex-Bags-Accessories', 'Probability:85.37%', '1-->Backpacks-Unisex-Bags-Accessories-->Probability:85.00%\\n\\n2-->Caps-Men-Headwear-Accessories-->Probability:5.00%\\n\\n3-->Caps-Unisex-Headwear-Accessories-->Probability:4.00%\\n\\n4-->Tshirts-Men-Topwear-Apparel-->Probability:2.00%\\n\\n5-->Sweatshirts-Men-Topwear-Apparel-->Probability:2.00%\\n\\n'], 1: [PosixPath('static/upload/dress4.jpg'), 'Predicted Catagory: Sarees-Women-Saree-Apparel', 'Probability:59.27%', '1-->Sarees-Women-Saree-Apparel-->Probability:59.00%\\n\\n2-->Bra-Women-Innerwear-Apparel-->Probability:33.00%\\n\\n3-->Briefs-Women-Innerwear-Apparel-->Probability:1.00%\\n\\n4-->Trunk-Men-Innerwear-Apparel-->Probability:1.00%\\n\\n5-->Briefs-Men-Innerwear-Apparel-->Probability:1.00%\\n\\n']}\n",
      "Image saved\n"
     ]
    },
    {
     "name": "stderr",
     "output_type": "stream",
     "text": [
      "127.0.0.1 - - [01/Jun/2020 00:17:04] \"\u001b[37mPOST /uploader HTTP/1.1\u001b[0m\" 200 -\n",
      "127.0.0.1 - - [01/Jun/2020 00:17:04] \"\u001b[37mGET /static/upload/dress10.jpeg HTTP/1.1\u001b[0m\" 200 -\n"
     ]
    },
    {
     "name": "stdout",
     "output_type": "stream",
     "text": [
      "dict-->  {0: [PosixPath('static/upload/backpack.png'), 'Predicted Catagory: Backpacks-Unisex-Bags-Accessories', 'Probability:85.37%', '1-->Backpacks-Unisex-Bags-Accessories-->Probability:85.00%\\n\\n2-->Caps-Men-Headwear-Accessories-->Probability:5.00%\\n\\n3-->Caps-Unisex-Headwear-Accessories-->Probability:4.00%\\n\\n4-->Tshirts-Men-Topwear-Apparel-->Probability:2.00%\\n\\n5-->Sweatshirts-Men-Topwear-Apparel-->Probability:2.00%\\n\\n'], 1: [PosixPath('static/upload/dress10.jpeg'), 'Predicted Catagory: Kurtas-Women-Topwear-Apparel', 'Probability:86.96%', '1-->Kurtas-Women-Topwear-Apparel-->Probability:87.00%\\n\\n2-->Kurtis-Women-Topwear-Apparel-->Probability:4.00%\\n\\n3-->Kurtas-Men-Topwear-Apparel-->Probability:2.00%\\n\\n4-->Shirts-Women-Topwear-Apparel-->Probability:2.00%\\n\\n5-->Stoles-Women-Stoles-Accessories-->Probability:1.00%\\n\\n'], 2: [PosixPath('static/upload/dress4.jpg'), 'Predicted Catagory: Sarees-Women-Saree-Apparel', 'Probability:59.27%', '1-->Sarees-Women-Saree-Apparel-->Probability:59.00%\\n\\n2-->Bra-Women-Innerwear-Apparel-->Probability:33.00%\\n\\n3-->Briefs-Women-Innerwear-Apparel-->Probability:1.00%\\n\\n4-->Trunk-Men-Innerwear-Apparel-->Probability:1.00%\\n\\n5-->Briefs-Men-Innerwear-Apparel-->Probability:1.00%\\n\\n']}\n",
      "Image saved\n"
     ]
    },
    {
     "name": "stderr",
     "output_type": "stream",
     "text": [
      "[2020-06-01 00:18:12,880] ERROR in app: Exception on /uploader [POST]\n",
      "Traceback (most recent call last):\n",
      "  File \"/home/praveenkanna/anaconda3/envs/Python3/lib/python3.8/site-packages/flask/app.py\", line 2447, in wsgi_app\n",
      "    response = self.full_dispatch_request()\n",
      "  File \"/home/praveenkanna/anaconda3/envs/Python3/lib/python3.8/site-packages/flask/app.py\", line 1952, in full_dispatch_request\n",
      "    rv = self.handle_user_exception(e)\n",
      "  File \"/home/praveenkanna/anaconda3/envs/Python3/lib/python3.8/site-packages/flask/app.py\", line 1821, in handle_user_exception\n",
      "    reraise(exc_type, exc_value, tb)\n",
      "  File \"/home/praveenkanna/anaconda3/envs/Python3/lib/python3.8/site-packages/flask/_compat.py\", line 39, in reraise\n",
      "    raise value\n",
      "  File \"/home/praveenkanna/anaconda3/envs/Python3/lib/python3.8/site-packages/flask/app.py\", line 1950, in full_dispatch_request\n",
      "    rv = self.dispatch_request()\n",
      "  File \"/home/praveenkanna/anaconda3/envs/Python3/lib/python3.8/site-packages/flask/app.py\", line 1936, in dispatch_request\n",
      "    return self.view_functions[rule.endpoint](**req.view_args)\n",
      "  File \"<ipython-input-24-0e0fa7255e0f>\", line 31, in upload_file\n",
      "    model_input=open_image(file)\n",
      "  File \"/home/praveenkanna/anaconda3/envs/Python3/lib/python3.8/site-packages/fastai/vision/image.py\", line 398, in open_image\n",
      "    x = PIL.Image.open(fn).convert(convert_mode)\n",
      "  File \"/home/praveenkanna/anaconda3/envs/Python3/lib/python3.8/site-packages/PIL/Image.py\", line 2895, in open\n",
      "    raise UnidentifiedImageError(\n",
      "PIL.UnidentifiedImageError: cannot identify image file '/media/praveenkanna/Local disk/Workspace/Fashion_Classification-Myntra_Dataset/static/upload/OpenCV.ipynb'\n",
      "127.0.0.1 - - [01/Jun/2020 00:18:12] \"\u001b[35m\u001b[1mPOST /uploader HTTP/1.1\u001b[0m\" 500 -\n"
     ]
    }
   ],
   "source": [
    "#UI paths\n",
    "app = Flask(__name__)\n",
    "#run_with_ngrok(app)\n",
    "\n",
    "upload_path = \"static/upload\"\n",
    "app.config[\"IMAGE_UPLOADS\"] = upload_path\n",
    "\n",
    "#emptying upload file\n",
    "delete_uploadfiles(upload_path)\n",
    "\n",
    "\n",
    "\n",
    "@app.route(\"/\")\n",
    "def index():\n",
    "    return render_template('index.html')\n",
    "\n",
    "@app.route('/uploader', methods = ['GET', 'POST'])\n",
    "def upload_file():\n",
    "    \n",
    "    if request.method == 'POST':\n",
    "\n",
    "\n",
    "        image = request.files['file']\n",
    "        filename = secure_filename(image.filename)\n",
    "        image.save(Path(app.config[\"IMAGE_UPLOADS\"]+\"/\"+ filename))\n",
    "\n",
    "        print(\"Image saved\")\n",
    "        my_dict = {}\n",
    "        for index,file in enumerate(Path(upload_path).glob('*')):\n",
    "            \n",
    "            model_input=open_image(file)\n",
    "            model_pred=learn.predict(model_input)\n",
    "            custom_msg= str(\"Predicted Catagory: \"+str(get_label(int(model_pred[1]))))\n",
    "            Prediction_percent = str(\"Probability:{:.2f}%\".format(np.round((model_pred[2][int(model_pred[1])]).numpy()*100,2)))\n",
    "\n",
    "            reshaped_tensor=model_pred[2].unsqueeze(0)\n",
    "            top_5_pred = print_top_5_pred(reshaped_tensor)\n",
    "            '''\n",
    "            pred_class=str(get_label(int(model_pred[1])))\n",
    "            print(\"Probability:{:.2f}%\".format(np.round((model_pred[2][int(result[1])]).numpy()*100,2)))\n",
    "\n",
    "            print(\"\\nTop 5 prediction\")\n",
    "            a=result[2].unsqueeze(0)\n",
    "            print_top_5_pred(a)\n",
    "            \n",
    "            \n",
    "            \n",
    "            custom_msg=\"hi\"\n",
    "            '''\n",
    "            temp_val=[]\n",
    "            temp_val.append(file)\n",
    "            temp_val.append(custom_msg)\n",
    "            temp_val.append(Prediction_percent)\n",
    "            temp_val.append(top_5_pred)\n",
    "\n",
    "            my_dict[index]=temp_val\n",
    "            \n",
    "        print(\"dict--> \",my_dict)\n",
    "        return render_template('result.html', mydict=my_dict)\n",
    "\n",
    "        \n",
    "\n",
    "if __name__ == \"__main__\":\n",
    "  app.run(debug=False)\n",
    "\n"
   ]
  },
  {
   "cell_type": "code",
   "execution_count": null,
   "metadata": {},
   "outputs": [],
   "source": [
    "#img=open_image('/media/praveenkanna/Local disk/Workspace/Fashion_Classification-Myntra_Dataset/inputs/results51_0.png')\n",
    "#img=open_image('/media/praveenkanna/Local disk/Workspace/Fashion_Classification-Myntra_Dataset/inputs/dress2.jpeg') \n",
    "#img=open_image('/media/praveenkanna/Local disk/Workspace/Fashion_Classification-Myntra_Dataset/inputs/tshirt.jpeg') \n",
    "img=open_image('/media/praveenkanna/Local disk/Workspace/Fashion_Classification-Myntra_Dataset/inputs/dress10.jpeg') \n",
    "#img=open_image('/media/praveenkanna/Local disk/Workspace/Fashion_Classification-Myntra_Dataset/inputs/dress6.jpg') \n",
    "\n",
    "result=learn.predict(img)\n",
    "\n",
    "print(\"Predicted Class:\", get_label(int(result[1])))\n",
    "print(\"Probability:{:.2f}%\".format(np.round((result[2][int(result[1])]).numpy()*100,2)))\n",
    "\n",
    "print(\"\\nTop 5 prediction\")\n",
    "a=result[2].unsqueeze(0)\n",
    "print_top_5_pred(a)"
   ]
  },
  {
   "cell_type": "code",
   "execution_count": null,
   "metadata": {},
   "outputs": [],
   "source": [
    "img"
   ]
  },
  {
   "cell_type": "code",
   "execution_count": null,
   "metadata": {},
   "outputs": [],
   "source": []
  },
  {
   "cell_type": "code",
   "execution_count": null,
   "metadata": {},
   "outputs": [],
   "source": []
  },
  {
   "cell_type": "code",
   "execution_count": 12,
   "metadata": {},
   "outputs": [
    {
     "data": {
      "image/jpeg": "[encoded data removed]",
      "image/png": "[encoded data removed]",
      "text/plain": [
       "Image (3, 297, 170)"
      ]
     },
     "execution_count": 12,
     "metadata": {},
     "output_type": "execute_result"
    }
   ],
   "source": [
    "s=Path('static/dress9.jpeg')\n",
    "open_image(s)"
   ]
  },
  {
   "cell_type": "code",
   "execution_count": null,
   "metadata": {},
   "outputs": [],
   "source": [
    "print(img)"
   ]
  },
  {
   "cell_type": "code",
   "execution_count": 16,
   "metadata": {},
   "outputs": [
    {
     "data": {
      "text/plain": [
       "'Probability:3.44%'"
      ]
     },
     "execution_count": 16,
     "metadata": {},
     "output_type": "execute_result"
    }
   ],
   "source": [
    "str(\"Probability:{:.2f}%\".format(3.444433))"
   ]
  },
  {
   "cell_type": "code",
   "execution_count": null,
   "metadata": {},
   "outputs": [],
   "source": []
  },
  {
   "cell_type": "code",
   "execution_count": null,
   "metadata": {},
   "outputs": [],
   "source": [
    "result[2]"
   ]
  },
  {
   "cell_type": "code",
   "execution_count": null,
   "metadata": {},
   "outputs": [],
   "source": [
    "ImageList.from_folder('/media/praveenkanna/Local disk/Workspace/Fashion_Classification-Myntra_Dataset/inputs')"
   ]
  },
  {
   "cell_type": "code",
   "execution_count": null,
   "metadata": {},
   "outputs": [],
   "source": [
    "load_learner??"
   ]
  },
  {
   "cell_type": "code",
   "execution_count": null,
   "metadata": {},
   "outputs": [],
   "source": [
    "ItemList"
   ]
  },
  {
   "cell_type": "code",
   "execution_count": null,
   "metadata": {},
   "outputs": [],
   "source": []
  },
  {
   "cell_type": "code",
   "execution_count": null,
   "metadata": {},
   "outputs": [],
   "source": [
    "learn1 = load_learner(model, \n",
    "                      test=ImageList.from_folder('/media/praveenkanna/Local disk/Workspace/Fashion_Classification-Myntra_Dataset/temp'))"
   ]
  },
  {
   "cell_type": "code",
   "execution_count": null,
   "metadata": {},
   "outputs": [],
   "source": [
    "preds,y = learn1.get_preds(ds_type=DatasetType.Test)\n",
    "preds"
   ]
  },
  {
   "cell_type": "code",
   "execution_count": null,
   "metadata": {},
   "outputs": [],
   "source": [
    "a=preds.numpy()"
   ]
  },
  {
   "cell_type": "code",
   "execution_count": null,
   "metadata": {},
   "outputs": [],
   "source": [
    "np.unravel_index(a.argsort(axis=None), dims=a.shape)"
   ]
  },
  {
   "cell_type": "code",
   "execution_count": null,
   "metadata": {},
   "outputs": [],
   "source": [
    "ix = np.unravel_index(a.argsort(axis=None), dims=a.shape)\n",
    "ix"
   ]
  },
  {
   "cell_type": "code",
   "execution_count": null,
   "metadata": {},
   "outputs": [],
   "source": [
    "top_5_pred=ix[1][-5:]"
   ]
  },
  {
   "cell_type": "code",
   "execution_count": null,
   "metadata": {},
   "outputs": [],
   "source": [
    "preds[0][55]"
   ]
  },
  {
   "cell_type": "code",
   "execution_count": null,
   "metadata": {},
   "outputs": [],
   "source": [
    "def print_top_5_pred(preds):\n",
    "    idx=np.unravel_index(preds.numpy().argsort(axis=None), dims=preds.numpy().shape)\n",
    "    top_5_pred=idx[1][-5:]\n",
    "    for i,val in enumerate(top_5_pred[::-1]):\n",
    "        print(\"\\n\",i+1,\":\",get_label(val),\"\\nProbability:\",preds[0][val])\n",
    "print_top_5_pred(preds)   "
   ]
  },
  {
   "cell_type": "code",
   "execution_count": null,
   "metadata": {},
   "outputs": [],
   "source": [
    "img"
   ]
  },
  {
   "cell_type": "code",
   "execution_count": null,
   "metadata": {},
   "outputs": [],
   "source": [
    "a=result[2].unsqueeze(0)\n",
    "print_top_5_pred(a) "
   ]
  },
  {
   "cell_type": "code",
   "execution_count": null,
   "metadata": {},
   "outputs": [],
   "source": [
    "learn1"
   ]
  },
  {
   "cell_type": "code",
   "execution_count": null,
   "metadata": {},
   "outputs": [],
   "source": []
  }
 ],
 "metadata": {
  "kernelspec": {
   "display_name": "Python3",
   "language": "python",
   "name": "python3"
  },
  "language_info": {
   "codemirror_mode": {
    "name": "ipython",
    "version": 3
   },
   "file_extension": ".py",
   "mimetype": "text/x-python",
   "name": "python",
   "nbconvert_exporter": "python",
   "pygments_lexer": "ipython3",
   "version": "3.8.2"
  }
 },
 "nbformat": 4,
 "nbformat_minor": 4
}
