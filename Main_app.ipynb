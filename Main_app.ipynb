{
 "cells": [
  {
   "cell_type": "code",
   "execution_count": 1,
   "metadata": {},
   "outputs": [],
   "source": [
    "from fastai.vision import load_learner,ImageList,DatasetType,open_image,Path\n",
    "import pandas as pd\n",
    "import warnings\n",
    "import numpy as np\n",
    "from flask import Flask, request, render_template\n",
    "from werkzeug.utils import secure_filename\n",
    "warnings.filterwarnings('ignore')\n",
    "\n",
    "upload_path = \"static/upload\"\n",
    "df= pd.read_csv('Training_labels/labels.csv',header=None)\n",
    "model= 'model'\n",
    "learn = load_learner(model)\n",
    "\n",
    "\n",
    "def get_label(predicted_class):\n",
    "    return df[0].iloc[predicted_class]\n",
    "    \n",
    "\n",
    "def print_top_3_pred(preds):\n",
    "    idx=np.unravel_index(preds.numpy().argsort(axis=None), dims=preds.numpy().shape)\n",
    "    top_3_pred=idx[1][-3:]\n",
    "    return_msg=\"\"\n",
    "    for i,val in enumerate(top_3_pred[::-1]):\n",
    "        return_msg +=str(str(i+1)+\".\"+str(get_label(val))+\" - {:.2f}%\\n\".format(np.round(preds[0][val].numpy()*100),2)+\"\\n\")\n",
    "        \n",
    "    return return_msg\n",
    "\n",
    "def delete_uploadfiles(upload_path):\n",
    "    for file in Path(upload_path).glob('*'):\n",
    "        try:\n",
    "            #print(\"deleted\",file)\n",
    "            file.unlink()\n",
    "            \n",
    "        except OSError as e:\n",
    "            print(\"Error: %s : %s\" % (f, e.strerror))\n",
    "    return True"
   ]
  },
  {
   "cell_type": "code",
   "execution_count": null,
   "metadata": {},
   "outputs": [],
   "source": [
    "\n",
    "app = Flask(__name__)\n",
    "#run_with_ngrok(app)\n",
    "\n",
    "\n",
    "app.config[\"IMAGE_UPLOADS\"] = upload_path\n",
    "\n",
    "#Removing contents in upload folder\n",
    "#delete_uploadfiles(upload_path)\n",
    "\n",
    "@app.route(\"/\")\n",
    "def index():\n",
    "    return render_template('index.html')\n",
    "\n",
    "@app.route('/uploader', methods = ['GET', 'POST'])\n",
    "def upload_file():\n",
    "    \n",
    "    if request.method == 'POST':\n",
    "\n",
    "\n",
    "        image = request.files['file']\n",
    "        filename = secure_filename(image.filename)\n",
    "        image.save(Path(app.config[\"IMAGE_UPLOADS\"]+\"/\"+ filename))\n",
    "\n",
    "        #print(\"Image saved\")\n",
    "        my_dict = {}\n",
    "        for index,file in enumerate(Path(upload_path).glob('*')):\n",
    "            \n",
    "            model_input=open_image(file)\n",
    "            \n",
    "            model_pred=learn.predict(model_input)\n",
    "            \n",
    "            if(np.round((model_pred[2][int(model_pred[1])]).numpy()*100,2)<85):\n",
    "                custom_msg = \"NA\"\n",
    "                Prediction_percent = \"NA\"\n",
    "            else:\n",
    "                custom_msg= str(str(get_label(int(model_pred[1]))))\n",
    "                Prediction_percent = str(\"{:.2f}%\".format(np.round((model_pred[2][int(model_pred[1])]).numpy()*100,2)))\n",
    "\n",
    "            reshaped_tensor=model_pred[2].unsqueeze(0)\n",
    "            top_5_pred = print_top_3_pred(reshaped_tensor)\n",
    "\n",
    "            temp_val=[]\n",
    "            temp_val.append(file)\n",
    "            temp_val.append(custom_msg)\n",
    "            temp_val.append(Prediction_percent)\n",
    "            temp_val.append(top_5_pred)\n",
    "\n",
    "            my_dict[index]=temp_val\n",
    "            \n",
    "        #print(\"dict--> \",my_dict)\n",
    "        return render_template('result.html', mydict=my_dict)\n",
    "\n",
    "        \n",
    "\n",
    "if __name__ == \"__main__\":\n",
    "  app.run(debug=False,host='0.0.0.0')\n",
    "\n"
   ]
  },
  {
   "cell_type": "code",
   "execution_count": null,
   "metadata": {},
   "outputs": [],
   "source": [
    "#img=open_image('/media/praveenkanna/Local disk/Workspace/Fashion_Classification-Myntra_Dataset/inputs/results51_0.png')\n",
    "#img=open_image('/media/praveenkanna/Local disk/Workspace/Fashion_Classification-Myntra_Dataset/inputs/dress2.jpeg') \n",
    "#img=open_image('/media/praveenkanna/Local disk/Workspace/Fashion_Classification-Myntra_Dataset/inputs/tshirt.jpeg') \n",
    "img=open_image('/media/praveenkanna/Local disk/Workspace/Fashion_Classification-Myntra_Dataset/inputs/dress10.jpeg') \n",
    "#img=open_image('/media/praveenkanna/Local disk/Workspace/Fashion_Classification-Myntra_Dataset/inputs/dress6.jpg') \n",
    "\n",
    "result=learn.predict(img)\n",
    "\n",
    "print(\"Predicted Class:\", get_label(int(result[1])))\n",
    "print(\"Probability:{:.2f}%\".format(np.round((result[2][int(result[1])]).numpy()*100,2)))\n",
    "\n",
    "print(\"\\nTop 5 prediction\")\n",
    "a=result[2].unsqueeze(0)\n",
    "print_top_5_pred(a)"
   ]
  },
  {
   "cell_type": "code",
   "execution_count": null,
   "metadata": {},
   "outputs": [],
   "source": [
    "img"
   ]
  },
  {
   "cell_type": "code",
   "execution_count": null,
   "metadata": {},
   "outputs": [],
   "source": []
  },
  {
   "cell_type": "code",
   "execution_count": null,
   "metadata": {},
   "outputs": [],
   "source": []
  },
  {
   "cell_type": "code",
   "execution_count": null,
   "metadata": {},
   "outputs": [],
   "source": [
    "s=Path('static/dress9.jpeg')\n",
    "open_image(s)"
   ]
  },
  {
   "cell_type": "code",
   "execution_count": null,
   "metadata": {},
   "outputs": [],
   "source": [
    "import cv2\n",
    "img_path=Path('static/upload/a.jpg')\n",
    "img=cv2.imread('static/upload/a.jpg')\n"
   ]
  },
  {
   "cell_type": "code",
   "execution_count": null,
   "metadata": {},
   "outputs": [],
   "source": [
    "open_image(img_path).shape"
   ]
  },
  {
   "cell_type": "code",
   "execution_count": null,
   "metadata": {},
   "outputs": [],
   "source": [
    "img.shape"
   ]
  },
  {
   "cell_type": "code",
   "execution_count": null,
   "metadata": {},
   "outputs": [],
   "source": [
    "image1=cv2.resize(img, (60, 60))  \n",
    "image1.shape"
   ]
  },
  {
   "cell_type": "code",
   "execution_count": null,
   "metadata": {},
   "outputs": [],
   "source": [
    "img2=image1.reshape(3,60,60)\n",
    "img2.shape"
   ]
  },
  {
   "cell_type": "code",
   "execution_count": null,
   "metadata": {},
   "outputs": [],
   "source": [
    "cv2.imwrite(\"temp/new_a.jpg\",image1)"
   ]
  },
  {
   "cell_type": "code",
   "execution_count": null,
   "metadata": {},
   "outputs": [],
   "source": [
    "ImageList.from_folder('/media/praveenkanna/Local disk/Workspace/Fashion_Classification-Myntra_Dataset/inputs')"
   ]
  },
  {
   "cell_type": "code",
   "execution_count": null,
   "metadata": {},
   "outputs": [],
   "source": [
    "load_learner??"
   ]
  },
  {
   "cell_type": "code",
   "execution_count": null,
   "metadata": {},
   "outputs": [],
   "source": [
    "DatasetType.Test"
   ]
  },
  {
   "cell_type": "code",
   "execution_count": null,
   "metadata": {},
   "outputs": [],
   "source": [
    "b = ImageList.from_folder('/media/praveenkanna/Local disk/Workspace/Fashion_Classification-Myntra_Dataset/temp')\n",
    "\n",
    "for i in b:\n",
    "    print(i)\n",
    "    "
   ]
  },
  {
   "cell_type": "code",
   "execution_count": null,
   "metadata": {},
   "outputs": [],
   "source": [
    "learn1 = load_learner(model, \n",
    "                      test=ImageList.from_folder('/media/praveenkanna/Local disk/Workspace/Fashion_Classification-Myntra_Dataset/temp'))"
   ]
  },
  {
   "cell_type": "code",
   "execution_count": null,
   "metadata": {},
   "outputs": [],
   "source": [
    "preds,y = learn1.get_preds(ds_type=DatasetType.Test)\n",
    "preds"
   ]
  },
  {
   "cell_type": "code",
   "execution_count": null,
   "metadata": {},
   "outputs": [],
   "source": [
    "y"
   ]
  },
  {
   "cell_type": "code",
   "execution_count": null,
   "metadata": {},
   "outputs": [],
   "source": [
    "preds[0]"
   ]
  },
  {
   "cell_type": "code",
   "execution_count": null,
   "metadata": {},
   "outputs": [],
   "source": [
    "ix = np.unravel_index(a.argsort(axis=None), dims=a.shape)\n",
    "ix"
   ]
  },
  {
   "cell_type": "code",
   "execution_count": null,
   "metadata": {},
   "outputs": [],
   "source": [
    "top_5_pred=ix[1][-5:]"
   ]
  },
  {
   "cell_type": "code",
   "execution_count": null,
   "metadata": {},
   "outputs": [],
   "source": [
    "preds[0][55]"
   ]
  },
  {
   "cell_type": "code",
   "execution_count": null,
   "metadata": {},
   "outputs": [],
   "source": [
    "def print_top_5_pred(preds):\n",
    "    idx=np.unravel_index(preds.numpy().argsort(axis=None), dims=preds.numpy().shape)\n",
    "    top_5_pred=idx[1][-5:]\n",
    "    for i,val in enumerate(top_5_pred[::-1]):\n",
    "        print(\"\\n\",i+1,\":\",get_label(val),\"\\nProbability:\",preds[0][val])\n",
    "print_top_5_pred(preds)   "
   ]
  },
  {
   "cell_type": "code",
   "execution_count": null,
   "metadata": {},
   "outputs": [],
   "source": [
    "img"
   ]
  },
  {
   "cell_type": "code",
   "execution_count": null,
   "metadata": {},
   "outputs": [],
   "source": [
    "a=result[2].unsqueeze(0)\n",
    "print_top_5_pred(a) "
   ]
  },
  {
   "cell_type": "code",
   "execution_count": null,
   "metadata": {},
   "outputs": [],
   "source": [
    "learn1"
   ]
  },
  {
   "cell_type": "code",
   "execution_count": null,
   "metadata": {},
   "outputs": [],
   "source": [
    "#model_input=open_image(file)\n",
    "\n",
    "            \n",
    "model_pred=learn.predict(model_input)\n",
    "\n",
    "if(np.round((model_pred[2][int(model_pred[1])]).numpy()*100,2)<85):\n",
    "    custom_msg = \"NA\"\n",
    "    Prediction_percent = \"NA\"\n",
    "else:\n",
    "    custom_msg= str(str(get_label(int(model_pred[1]))))\n",
    "    Prediction_percent = str(\"{:.2f}%\".format(np.round((model_pred[2][int(model_pred[1])]).numpy()*100,2)))\n",
    "\n",
    "reshaped_tensor=model_pred[2].unsqueeze(0)\n",
    "top_5_pred = print_top_3_pred(reshaped_tensor)\n",
    "\n",
    "temp_val=[]\n",
    "temp_val.append(file)\n",
    "temp_val.append(custom_msg)\n",
    "temp_val.append(Prediction_percent)"
   ]
  },
  {
   "cell_type": "code",
   "execution_count": null,
   "metadata": {},
   "outputs": [],
   "source": [
    "#print_top_3_pred(preds[0])\n",
    "img_list_loader = ImageList.from_folder('temp')\n",
    "learn1 = load_learner(model, \n",
    "                      test=img_list_loader)\n",
    "\n",
    "preds,y = learn1.get_preds(ds_type=DatasetType.Test)\n",
    "\n",
    "for preds,img_src in zip(preds,img_list_loader.items):\n",
    "    print(img_src)\n",
    "    idx=np.unravel_index(preds.numpy().argsort(axis=None), dims=preds.numpy().shape)\n",
    "    top_3_pred=idx[0][-3:]\n",
    "    return_msg=\"\"\n",
    "    for i,val in enumerate(top_3_pred[::-1]):\n",
    "        return_msg +=str(str(i+1)+\".\"+str(get_label(val))+\" - {:.2f}%\\n\".format(np.round(preds[val].numpy()*100),2)+\"\\n\")\n",
    "\n",
    "    print(return_msg)"
   ]
  },
  {
   "cell_type": "code",
   "execution_count": null,
   "metadata": {},
   "outputs": [],
   "source": [
    "top_3_pred"
   ]
  },
  {
   "cell_type": "code",
   "execution_count": null,
   "metadata": {},
   "outputs": [],
   "source": [
    "img_list=ImageList.from_folder('/media/praveenkanna/Local disk/Workspace/Fashion_Classification-Myntra_Dataset/temp')"
   ]
  },
  {
   "cell_type": "code",
   "execution_count": null,
   "metadata": {},
   "outputs": [],
   "source": [
    "img_list_loader.items"
   ]
  },
  {
   "cell_type": "code",
   "execution_count": null,
   "metadata": {},
   "outputs": [],
   "source": [
    "img_list_loader = ImageList.from_folder('temp')\n",
    "learn1 = load_learner(model, \n",
    "                      test=img_list_loader)\n",
    "learn1"
   ]
  },
  {
   "cell_type": "code",
   "execution_count": null,
   "metadata": {},
   "outputs": [],
   "source": [
    "if len(img_list_loader.items)>0:\n",
    "    print(\"true\")\n",
    "else:\n",
    "    print(\"no\")"
   ]
  },
  {
   "cell_type": "code",
   "execution_count": null,
   "metadata": {},
   "outputs": [],
   "source": [
    "top_3_pred[-1]"
   ]
  },
  {
   "cell_type": "code",
   "execution_count": 13,
   "metadata": {},
   "outputs": [
    {
     "name": "stdout",
     "output_type": "stream",
     "text": [
      " * Serving Flask app \"__main__\" (lazy loading)\n",
      " * Environment: production\n",
      "\u001b[31m   WARNING: This is a development server. Do not use it in a production deployment.\u001b[0m\n",
      "\u001b[2m   Use a production WSGI server instead.\u001b[0m\n",
      " * Debug mode: off\n"
     ]
    },
    {
     "name": "stderr",
     "output_type": "stream",
     "text": [
      " * Running on http://0.0.0.0:5000/ (Press CTRL+C to quit)\n",
      "127.0.0.1 - - [01/Jun/2020 23:20:06] \"\u001b[37mGET / HTTP/1.1\u001b[0m\" 200 -\n"
     ]
    },
    {
     "name": "stdout",
     "output_type": "stream",
     "text": [
      "img_list_loader.items:  [PosixPath('static/upload/dress3.jpeg')]\n"
     ]
    },
    {
     "data": {
      "text/html": [],
      "text/plain": [
       "<IPython.core.display.HTML object>"
      ]
     },
     "metadata": {},
     "output_type": "display_data"
    },
    {
     "name": "stderr",
     "output_type": "stream",
     "text": [
      "127.0.0.1 - - [01/Jun/2020 23:20:13] \"\u001b[37mPOST /uploader HTTP/1.1\u001b[0m\" 200 -\n"
     ]
    },
    {
     "name": "stdout",
     "output_type": "stream",
     "text": [
      "static/upload/dress3.jpeg\n",
      "index:  0\n",
      "dict-->  {0: [PosixPath('static/upload/dress3.jpeg'), 'NA', 'NA', '1.Shirts-Men - 31.00%\\n\\n2.Backpacks-Unisex - 16.00%\\n\\n3.Watches-Men - 16.00%\\n\\n']}\n",
      "img_list_loader.items:  [PosixPath('static/upload/dress2.jpeg') PosixPath('static/upload/dress3.jpeg')]\n"
     ]
    },
    {
     "data": {
      "text/html": [],
      "text/plain": [
       "<IPython.core.display.HTML object>"
      ]
     },
     "metadata": {},
     "output_type": "display_data"
    },
    {
     "name": "stderr",
     "output_type": "stream",
     "text": [
      "127.0.0.1 - - [01/Jun/2020 23:20:20] \"\u001b[37mPOST /uploader HTTP/1.1\u001b[0m\" 200 -\n"
     ]
    },
    {
     "name": "stdout",
     "output_type": "stream",
     "text": [
      "static/upload/dress2.jpeg\n",
      "index:  0\n",
      "static/upload/dress3.jpeg\n",
      "index:  1\n",
      "dict-->  {0: [PosixPath('static/upload/dress2.jpeg'), 'NA', 'NA', '1.Shirts-Women - 14.00%\\n\\n2.Kurtas-Women-Topwear - 13.00%\\n\\n3.Sarees-Women - 12.00%\\n\\n'], 1: [PosixPath('static/upload/dress3.jpeg'), 'NA', 'NA', '1.Shirts-Men - 31.00%\\n\\n2.Backpacks-Unisex - 16.00%\\n\\n3.Watches-Men - 16.00%\\n\\n']}\n",
      "img_list_loader.items:  [PosixPath('static/upload/dress2.jpeg') PosixPath('static/upload/dress3.jpeg')\n",
      " PosixPath('static/upload/IMG-20191116-WA0027.jpg')]\n"
     ]
    },
    {
     "data": {
      "text/html": [],
      "text/plain": [
       "<IPython.core.display.HTML object>"
      ]
     },
     "metadata": {},
     "output_type": "display_data"
    },
    {
     "name": "stderr",
     "output_type": "stream",
     "text": [
      "127.0.0.1 - - [01/Jun/2020 23:20:46] \"\u001b[37mPOST /uploader HTTP/1.1\u001b[0m\" 200 -\n"
     ]
    },
    {
     "name": "stdout",
     "output_type": "stream",
     "text": [
      "static/upload/dress2.jpeg\n",
      "index:  0\n",
      "static/upload/dress3.jpeg\n",
      "index:  1\n",
      "static/upload/IMG-20191116-WA0027.jpg\n",
      "index:  2\n",
      "dict-->  {0: [PosixPath('static/upload/dress2.jpeg'), 'NA', 'NA', '1.Shirts-Women - 14.00%\\n\\n2.Kurtas-Women-Topwear - 13.00%\\n\\n3.Sarees-Women - 12.00%\\n\\n'], 1: [PosixPath('static/upload/dress3.jpeg'), 'NA', 'NA', '1.Shirts-Men - 31.00%\\n\\n2.Backpacks-Unisex - 16.00%\\n\\n3.Watches-Men - 16.00%\\n\\n'], 2: [PosixPath('static/upload/IMG-20191116-WA0027.jpg'), 'Shirts-Men', '86.91%', '1.Shirts-Men - 87.00%\\n\\n2.Tshirts-Men - 8.00%\\n\\n3.Shirts-Women - 2.00%\\n\\n']}\n",
      "img_list_loader.items:  [PosixPath('static/upload/backpack.png') PosixPath('static/upload/dress2.jpeg') PosixPath('static/upload/dress3.jpeg')\n",
      " PosixPath('static/upload/IMG-20191116-WA0027.jpg')]\n"
     ]
    },
    {
     "data": {
      "text/html": [],
      "text/plain": [
       "<IPython.core.display.HTML object>"
      ]
     },
     "metadata": {},
     "output_type": "display_data"
    },
    {
     "name": "stderr",
     "output_type": "stream",
     "text": [
      "127.0.0.1 - - [01/Jun/2020 23:21:06] \"\u001b[37mPOST /uploader HTTP/1.1\u001b[0m\" 200 -\n"
     ]
    },
    {
     "name": "stdout",
     "output_type": "stream",
     "text": [
      "static/upload/backpack.png\n",
      "index:  0\n",
      "static/upload/dress2.jpeg\n",
      "index:  1\n",
      "static/upload/dress3.jpeg\n",
      "index:  2\n",
      "static/upload/IMG-20191116-WA0027.jpg\n",
      "index:  3\n",
      "dict-->  {0: [PosixPath('static/upload/backpack.png'), 'Backpacks-Unisex', '98.67%', '1.Backpacks-Unisex - 99.00%\\n\\n2.Backpacks-Men - 1.00%\\n\\n3.Sweatshirts-Men - 0.00%\\n\\n'], 1: [PosixPath('static/upload/dress2.jpeg'), 'NA', 'NA', '1.Shirts-Women - 14.00%\\n\\n2.Kurtas-Women-Topwear - 13.00%\\n\\n3.Sarees-Women - 12.00%\\n\\n'], 2: [PosixPath('static/upload/dress3.jpeg'), 'NA', 'NA', '1.Shirts-Men - 31.00%\\n\\n2.Backpacks-Unisex - 16.00%\\n\\n3.Watches-Men - 16.00%\\n\\n'], 3: [PosixPath('static/upload/IMG-20191116-WA0027.jpg'), 'Shirts-Men', '86.91%', '1.Shirts-Men - 87.00%\\n\\n2.Tshirts-Men - 8.00%\\n\\n3.Shirts-Women - 2.00%\\n\\n']}\n",
      "img_list_loader.items:  [PosixPath('static/upload/backpack.png') PosixPath('static/upload/dress2.jpeg') PosixPath('static/upload/dress3.jpeg')\n",
      " PosixPath('static/upload/IMG-20191116-WA0027.jpg')]\n"
     ]
    },
    {
     "data": {
      "text/html": [],
      "text/plain": [
       "<IPython.core.display.HTML object>"
      ]
     },
     "metadata": {},
     "output_type": "display_data"
    },
    {
     "name": "stderr",
     "output_type": "stream",
     "text": [
      "127.0.0.1 - - [01/Jun/2020 23:21:29] \"\u001b[37mPOST /uploader HTTP/1.1\u001b[0m\" 200 -\n"
     ]
    },
    {
     "name": "stdout",
     "output_type": "stream",
     "text": [
      "static/upload/backpack.png\n",
      "index:  0\n",
      "static/upload/dress2.jpeg\n",
      "index:  1\n",
      "static/upload/dress3.jpeg\n",
      "index:  2\n",
      "static/upload/IMG-20191116-WA0027.jpg\n",
      "index:  3\n",
      "dict-->  {0: [PosixPath('static/upload/backpack.png'), 'Backpacks-Unisex', '98.67%', '1.Backpacks-Unisex - 99.00%\\n\\n2.Backpacks-Men - 1.00%\\n\\n3.Sweatshirts-Men - 0.00%\\n\\n'], 1: [PosixPath('static/upload/dress2.jpeg'), 'NA', 'NA', '1.Shirts-Women - 14.00%\\n\\n2.Kurtas-Women-Topwear - 13.00%\\n\\n3.Sarees-Women - 12.00%\\n\\n'], 2: [PosixPath('static/upload/dress3.jpeg'), 'NA', 'NA', '1.Shirts-Men - 31.00%\\n\\n2.Backpacks-Unisex - 16.00%\\n\\n3.Watches-Men - 16.00%\\n\\n'], 3: [PosixPath('static/upload/IMG-20191116-WA0027.jpg'), 'Shirts-Men', '86.91%', '1.Shirts-Men - 87.00%\\n\\n2.Tshirts-Men - 8.00%\\n\\n3.Shirts-Women - 2.00%\\n\\n']}\n",
      "img_list_loader.items:  [PosixPath('static/upload/backpack.png') PosixPath('static/upload/dress2.jpeg') PosixPath('static/upload/dress3.jpeg')\n",
      " PosixPath('static/upload/IMG-20191116-WA0027.jpg')]\n"
     ]
    },
    {
     "data": {
      "text/html": [],
      "text/plain": [
       "<IPython.core.display.HTML object>"
      ]
     },
     "metadata": {},
     "output_type": "display_data"
    },
    {
     "name": "stderr",
     "output_type": "stream",
     "text": [
      "127.0.0.1 - - [01/Jun/2020 23:21:53] \"\u001b[37mPOST /uploader HTTP/1.1\u001b[0m\" 200 -\n"
     ]
    },
    {
     "name": "stdout",
     "output_type": "stream",
     "text": [
      "static/upload/backpack.png\n",
      "index:  0\n",
      "static/upload/dress2.jpeg\n",
      "index:  1\n",
      "static/upload/dress3.jpeg\n",
      "index:  2\n",
      "static/upload/IMG-20191116-WA0027.jpg\n",
      "index:  3\n",
      "dict-->  {0: [PosixPath('static/upload/backpack.png'), 'Backpacks-Unisex', '98.67%', '1.Backpacks-Unisex - 99.00%\\n\\n2.Backpacks-Men - 1.00%\\n\\n3.Sweatshirts-Men - 0.00%\\n\\n'], 1: [PosixPath('static/upload/dress2.jpeg'), 'NA', 'NA', '1.Shirts-Women - 14.00%\\n\\n2.Kurtas-Women-Topwear - 13.00%\\n\\n3.Sarees-Women - 12.00%\\n\\n'], 2: [PosixPath('static/upload/dress3.jpeg'), 'NA', 'NA', '1.Shirts-Men - 31.00%\\n\\n2.Backpacks-Unisex - 16.00%\\n\\n3.Watches-Men - 16.00%\\n\\n'], 3: [PosixPath('static/upload/IMG-20191116-WA0027.jpg'), 'Shirts-Men', '86.91%', '1.Shirts-Men - 87.00%\\n\\n2.Tshirts-Men - 8.00%\\n\\n3.Shirts-Women - 2.00%\\n\\n']}\n",
      "img_list_loader.items:  [PosixPath('static/upload/a.jpg') PosixPath('static/upload/backpack.png') PosixPath('static/upload/dress2.jpeg')\n",
      " PosixPath('static/upload/dress3.jpeg') PosixPath('static/upload/IMG-20191116-WA0027.jpg')]\n"
     ]
    },
    {
     "data": {
      "text/html": [],
      "text/plain": [
       "<IPython.core.display.HTML object>"
      ]
     },
     "metadata": {},
     "output_type": "display_data"
    },
    {
     "name": "stderr",
     "output_type": "stream",
     "text": [
      "127.0.0.1 - - [01/Jun/2020 23:22:17] \"\u001b[37mPOST /uploader HTTP/1.1\u001b[0m\" 200 -\n"
     ]
    },
    {
     "name": "stdout",
     "output_type": "stream",
     "text": [
      "static/upload/a.jpg\n",
      "index:  0\n",
      "static/upload/backpack.png\n",
      "index:  1\n",
      "static/upload/dress2.jpeg\n",
      "index:  2\n",
      "static/upload/dress3.jpeg\n",
      "index:  3\n",
      "static/upload/IMG-20191116-WA0027.jpg\n",
      "index:  4\n",
      "dict-->  {0: [PosixPath('static/upload/a.jpg'), 'NA', 'NA', '1.Tshirts-Men - 68.00%\\n\\n2.Shirts-Men - 19.00%\\n\\n3.Jackets-Men-Topwear - 10.00%\\n\\n'], 1: [PosixPath('static/upload/backpack.png'), 'Backpacks-Unisex', '98.67%', '1.Backpacks-Unisex - 99.00%\\n\\n2.Backpacks-Men - 1.00%\\n\\n3.Sweatshirts-Men - 0.00%\\n\\n'], 2: [PosixPath('static/upload/dress2.jpeg'), 'NA', 'NA', '1.Shirts-Women - 14.00%\\n\\n2.Kurtas-Women-Topwear - 13.00%\\n\\n3.Sarees-Women - 12.00%\\n\\n'], 3: [PosixPath('static/upload/dress3.jpeg'), 'NA', 'NA', '1.Shirts-Men - 31.00%\\n\\n2.Backpacks-Unisex - 16.00%\\n\\n3.Watches-Men - 16.00%\\n\\n'], 4: [PosixPath('static/upload/IMG-20191116-WA0027.jpg'), 'Shirts-Men', '86.91%', '1.Shirts-Men - 87.00%\\n\\n2.Tshirts-Men - 8.00%\\n\\n3.Shirts-Women - 2.00%\\n\\n']}\n",
      "img_list_loader.items:  [PosixPath('static/upload/a.jpg') PosixPath('static/upload/backpack.png') PosixPath('static/upload/dress2.jpeg')\n",
      " PosixPath('static/upload/dress3.jpeg') PosixPath('static/upload/dress6.jpg')\n",
      " PosixPath('static/upload/IMG-20191116-WA0027.jpg')]\n"
     ]
    },
    {
     "data": {
      "text/html": [],
      "text/plain": [
       "<IPython.core.display.HTML object>"
      ]
     },
     "metadata": {},
     "output_type": "display_data"
    },
    {
     "name": "stderr",
     "output_type": "stream",
     "text": [
      "127.0.0.1 - - [01/Jun/2020 23:22:39] \"\u001b[37mPOST /uploader HTTP/1.1\u001b[0m\" 200 -\n",
      "127.0.0.1 - - [01/Jun/2020 23:22:39] \"\u001b[37mGET /static/upload/dress6.jpg HTTP/1.1\u001b[0m\" 200 -\n"
     ]
    },
    {
     "name": "stdout",
     "output_type": "stream",
     "text": [
      "static/upload/a.jpg\n",
      "index:  0\n",
      "static/upload/backpack.png\n",
      "index:  1\n",
      "static/upload/dress2.jpeg\n",
      "index:  2\n",
      "static/upload/dress3.jpeg\n",
      "index:  3\n",
      "static/upload/dress6.jpg\n",
      "index:  4\n",
      "static/upload/IMG-20191116-WA0027.jpg\n",
      "index:  5\n",
      "dict-->  {0: [PosixPath('static/upload/a.jpg'), 'NA', 'NA', '1.Tshirts-Men - 68.00%\\n\\n2.Shirts-Men - 19.00%\\n\\n3.Jackets-Men-Topwear - 10.00%\\n\\n'], 1: [PosixPath('static/upload/backpack.png'), 'Backpacks-Unisex', '98.67%', '1.Backpacks-Unisex - 99.00%\\n\\n2.Backpacks-Men - 1.00%\\n\\n3.Sweatshirts-Men - 0.00%\\n\\n'], 2: [PosixPath('static/upload/dress2.jpeg'), 'NA', 'NA', '1.Shirts-Women - 14.00%\\n\\n2.Kurtas-Women-Topwear - 13.00%\\n\\n3.Sarees-Women - 12.00%\\n\\n'], 3: [PosixPath('static/upload/dress3.jpeg'), 'NA', 'NA', '1.Shirts-Men - 31.00%\\n\\n2.Backpacks-Unisex - 16.00%\\n\\n3.Watches-Men - 16.00%\\n\\n'], 4: [PosixPath('static/upload/dress6.jpg'), 'NA', 'NA', '1.Sarees-Women - 38.00%\\n\\n2.Backpacks-Unisex - 16.00%\\n\\n3.Sports Shoes-Footwear - 9.00%\\n\\n'], 5: [PosixPath('static/upload/IMG-20191116-WA0027.jpg'), 'Shirts-Men', '86.91%', '1.Shirts-Men - 87.00%\\n\\n2.Tshirts-Men - 8.00%\\n\\n3.Shirts-Women - 2.00%\\n\\n']}\n"
     ]
    },
    {
     "name": "stderr",
     "output_type": "stream",
     "text": [
      "192.168.1.2 - - [01/Jun/2020 23:22:58] \"\u001b[33mGET /favicon.ico HTTP/1.1\u001b[0m\" 404 -\n"
     ]
    },
    {
     "name": "stdout",
     "output_type": "stream",
     "text": [
      "img_list_loader.items:  [PosixPath('static/upload/20200414_144759.jpg') PosixPath('static/upload/a.jpg')\n",
      " PosixPath('static/upload/backpack.png') PosixPath('static/upload/dress2.jpeg') PosixPath('static/upload/dress3.jpeg')\n",
      " PosixPath('static/upload/dress6.jpg') PosixPath('static/upload/IMG-20191116-WA0027.jpg')]\n"
     ]
    },
    {
     "data": {
      "text/html": [],
      "text/plain": [
       "<IPython.core.display.HTML object>"
      ]
     },
     "metadata": {},
     "output_type": "display_data"
    },
    {
     "name": "stderr",
     "output_type": "stream",
     "text": [
      "192.168.1.2 - - [01/Jun/2020 23:23:19] \"\u001b[37mPOST /uploader HTTP/1.1\u001b[0m\" 200 -\n"
     ]
    },
    {
     "name": "stdout",
     "output_type": "stream",
     "text": [
      "static/upload/20200414_144759.jpg\n",
      "index:  0\n",
      "static/upload/a.jpg\n",
      "index:  1\n",
      "static/upload/backpack.png\n",
      "index:  2\n",
      "static/upload/dress2.jpeg\n",
      "index:  3\n",
      "static/upload/dress3.jpeg\n",
      "index:  4\n",
      "static/upload/dress6.jpg\n",
      "index:  5\n",
      "static/upload/IMG-20191116-WA0027.jpg\n",
      "index:  6\n",
      "dict-->  {0: [PosixPath('static/upload/20200414_144759.jpg'), 'NA', 'NA', '1.Tshirts-Men - 49.00%\\n\\n2.Shirts-Men - 35.00%\\n\\n3.Sarees-Women - 2.00%\\n\\n'], 1: [PosixPath('static/upload/a.jpg'), 'NA', 'NA', '1.Tshirts-Men - 68.00%\\n\\n2.Shirts-Men - 19.00%\\n\\n3.Jackets-Men-Topwear - 10.00%\\n\\n'], 2: [PosixPath('static/upload/backpack.png'), 'Backpacks-Unisex', '98.67%', '1.Backpacks-Unisex - 99.00%\\n\\n2.Backpacks-Men - 1.00%\\n\\n3.Sweatshirts-Men - 0.00%\\n\\n'], 3: [PosixPath('static/upload/dress2.jpeg'), 'NA', 'NA', '1.Shirts-Women - 14.00%\\n\\n2.Kurtas-Women-Topwear - 13.00%\\n\\n3.Sarees-Women - 12.00%\\n\\n'], 4: [PosixPath('static/upload/dress3.jpeg'), 'NA', 'NA', '1.Shirts-Men - 31.00%\\n\\n2.Backpacks-Unisex - 16.00%\\n\\n3.Watches-Men - 16.00%\\n\\n'], 5: [PosixPath('static/upload/dress6.jpg'), 'NA', 'NA', '1.Sarees-Women - 38.00%\\n\\n2.Backpacks-Unisex - 16.00%\\n\\n3.Sports Shoes-Footwear - 9.00%\\n\\n'], 6: [PosixPath('static/upload/IMG-20191116-WA0027.jpg'), 'Shirts-Men', '86.91%', '1.Shirts-Men - 87.00%\\n\\n2.Tshirts-Men - 8.00%\\n\\n3.Shirts-Women - 2.00%\\n\\n']}\n"
     ]
    },
    {
     "name": "stderr",
     "output_type": "stream",
     "text": [
      "192.168.1.2 - - [01/Jun/2020 23:23:20] \"\u001b[37mGET /static/upload/20200414_144759.jpg HTTP/1.1\u001b[0m\" 200 -\n",
      "192.168.1.2 - - [01/Jun/2020 23:23:20] \"\u001b[37mGET /static/upload/a.jpg HTTP/1.1\u001b[0m\" 200 -\n",
      "192.168.1.2 - - [01/Jun/2020 23:23:20] \"\u001b[37mGET /static/upload/backpack.png HTTP/1.1\u001b[0m\" 200 -\n",
      "192.168.1.2 - - [01/Jun/2020 23:23:20] \"\u001b[37mGET /static/upload/dress2.jpeg HTTP/1.1\u001b[0m\" 200 -\n",
      "192.168.1.2 - - [01/Jun/2020 23:23:20] \"\u001b[37mGET /static/upload/dress3.jpeg HTTP/1.1\u001b[0m\" 200 -\n",
      "192.168.1.2 - - [01/Jun/2020 23:23:20] \"\u001b[37mGET /static/upload/dress6.jpg HTTP/1.1\u001b[0m\" 200 -\n"
     ]
    },
    {
     "name": "stdout",
     "output_type": "stream",
     "text": [
      "img_list_loader.items:  [PosixPath('static/upload/20200414_144759.jpg') PosixPath('static/upload/a.jpg')\n",
      " PosixPath('static/upload/backpack.png') PosixPath('static/upload/dress2.jpeg') PosixPath('static/upload/dress3.jpeg')\n",
      " PosixPath('static/upload/dress6.jpg') PosixPath('static/upload/IMG-20191116-WA0027.jpg')]\n"
     ]
    },
    {
     "data": {
      "text/html": [],
      "text/plain": [
       "<IPython.core.display.HTML object>"
      ]
     },
     "metadata": {},
     "output_type": "display_data"
    },
    {
     "name": "stderr",
     "output_type": "stream",
     "text": [
      "192.168.1.2 - - [01/Jun/2020 23:24:08] \"\u001b[37mPOST /uploader HTTP/1.1\u001b[0m\" 200 -\n"
     ]
    },
    {
     "name": "stdout",
     "output_type": "stream",
     "text": [
      "static/upload/20200414_144759.jpg\n",
      "index:  0\n",
      "static/upload/a.jpg\n",
      "index:  1\n",
      "static/upload/backpack.png\n",
      "index:  2\n",
      "static/upload/dress2.jpeg\n",
      "index:  3\n",
      "static/upload/dress3.jpeg\n",
      "index:  4\n",
      "static/upload/dress6.jpg\n",
      "index:  5\n",
      "static/upload/IMG-20191116-WA0027.jpg\n",
      "index:  6\n",
      "dict-->  {0: [PosixPath('static/upload/20200414_144759.jpg'), 'NA', 'NA', '1.Tshirts-Men - 49.00%\\n\\n2.Shirts-Men - 35.00%\\n\\n3.Sarees-Women - 2.00%\\n\\n'], 1: [PosixPath('static/upload/a.jpg'), 'NA', 'NA', '1.Tshirts-Men - 68.00%\\n\\n2.Shirts-Men - 19.00%\\n\\n3.Jackets-Men-Topwear - 10.00%\\n\\n'], 2: [PosixPath('static/upload/backpack.png'), 'Backpacks-Unisex', '98.67%', '1.Backpacks-Unisex - 99.00%\\n\\n2.Backpacks-Men - 1.00%\\n\\n3.Sweatshirts-Men - 0.00%\\n\\n'], 3: [PosixPath('static/upload/dress2.jpeg'), 'NA', 'NA', '1.Shirts-Women - 14.00%\\n\\n2.Kurtas-Women-Topwear - 13.00%\\n\\n3.Sarees-Women - 12.00%\\n\\n'], 4: [PosixPath('static/upload/dress3.jpeg'), 'NA', 'NA', '1.Shirts-Men - 31.00%\\n\\n2.Backpacks-Unisex - 16.00%\\n\\n3.Watches-Men - 16.00%\\n\\n'], 5: [PosixPath('static/upload/dress6.jpg'), 'NA', 'NA', '1.Sarees-Women - 38.00%\\n\\n2.Backpacks-Unisex - 16.00%\\n\\n3.Sports Shoes-Footwear - 9.00%\\n\\n'], 6: [PosixPath('static/upload/IMG-20191116-WA0027.jpg'), 'Shirts-Men', '86.91%', '1.Shirts-Men - 87.00%\\n\\n2.Tshirts-Men - 8.00%\\n\\n3.Shirts-Women - 2.00%\\n\\n']}\n",
      "img_list_loader.items:  [PosixPath('static/upload/20191116_194051.jpg') PosixPath('static/upload/20200414_144759.jpg')\n",
      " PosixPath('static/upload/a.jpg') PosixPath('static/upload/backpack.png') PosixPath('static/upload/dress2.jpeg')\n",
      " PosixPath('static/upload/dress3.jpeg') PosixPath('static/upload/dress6.jpg')\n",
      " PosixPath('static/upload/IMG-20191116-WA0027.jpg')]\n"
     ]
    },
    {
     "data": {
      "text/html": [],
      "text/plain": [
       "<IPython.core.display.HTML object>"
      ]
     },
     "metadata": {},
     "output_type": "display_data"
    },
    {
     "name": "stderr",
     "output_type": "stream",
     "text": [
      "192.168.1.2 - - [01/Jun/2020 23:24:34] \"\u001b[37mPOST /uploader HTTP/1.1\u001b[0m\" 200 -\n",
      "192.168.1.2 - - [01/Jun/2020 23:24:34] \"\u001b[37mGET /static/upload/20191116_194051.jpg HTTP/1.1\u001b[0m\" 200 -\n"
     ]
    },
    {
     "name": "stdout",
     "output_type": "stream",
     "text": [
      "static/upload/20191116_194051.jpg\n",
      "index:  0\n",
      "static/upload/20200414_144759.jpg\n",
      "index:  1\n",
      "static/upload/a.jpg\n",
      "index:  2\n",
      "static/upload/backpack.png\n",
      "index:  3\n",
      "static/upload/dress2.jpeg\n",
      "index:  4\n",
      "static/upload/dress3.jpeg\n",
      "index:  5\n",
      "static/upload/dress6.jpg\n",
      "index:  6\n",
      "static/upload/IMG-20191116-WA0027.jpg\n",
      "index:  7\n",
      "dict-->  {0: [PosixPath('static/upload/20191116_194051.jpg'), 'NA', 'NA', '1.Tshirts-Men - 16.00%\\n\\n2.Handbags-Women - 13.00%\\n\\n3.Watches-Men - 11.00%\\n\\n'], 1: [PosixPath('static/upload/20200414_144759.jpg'), 'NA', 'NA', '1.Tshirts-Men - 49.00%\\n\\n2.Shirts-Men - 35.00%\\n\\n3.Sarees-Women - 2.00%\\n\\n'], 2: [PosixPath('static/upload/a.jpg'), 'NA', 'NA', '1.Tshirts-Men - 68.00%\\n\\n2.Shirts-Men - 19.00%\\n\\n3.Jackets-Men-Topwear - 10.00%\\n\\n'], 3: [PosixPath('static/upload/backpack.png'), 'Backpacks-Unisex', '98.67%', '1.Backpacks-Unisex - 99.00%\\n\\n2.Backpacks-Men - 1.00%\\n\\n3.Sweatshirts-Men - 0.00%\\n\\n'], 4: [PosixPath('static/upload/dress2.jpeg'), 'NA', 'NA', '1.Shirts-Women - 14.00%\\n\\n2.Kurtas-Women-Topwear - 13.00%\\n\\n3.Sarees-Women - 12.00%\\n\\n'], 5: [PosixPath('static/upload/dress3.jpeg'), 'NA', 'NA', '1.Shirts-Men - 31.00%\\n\\n2.Backpacks-Unisex - 16.00%\\n\\n3.Watches-Men - 16.00%\\n\\n'], 6: [PosixPath('static/upload/dress6.jpg'), 'NA', 'NA', '1.Sarees-Women - 38.00%\\n\\n2.Backpacks-Unisex - 16.00%\\n\\n3.Sports Shoes-Footwear - 9.00%\\n\\n'], 7: [PosixPath('static/upload/IMG-20191116-WA0027.jpg'), 'Shirts-Men', '86.91%', '1.Shirts-Men - 87.00%\\n\\n2.Tshirts-Men - 8.00%\\n\\n3.Shirts-Women - 2.00%\\n\\n']}\n",
      "img_list_loader.items:  [PosixPath('static/upload/1591034142381791849351682526519.jpg') PosixPath('static/upload/20191116_194051.jpg')\n",
      " PosixPath('static/upload/20200414_144759.jpg') PosixPath('static/upload/a.jpg')\n",
      " PosixPath('static/upload/backpack.png') PosixPath('static/upload/dress2.jpeg') PosixPath('static/upload/dress3.jpeg')\n",
      " PosixPath('static/upload/dress6.jpg') PosixPath('static/upload/IMG-20191116-WA0027.jpg')]\n"
     ]
    },
    {
     "data": {
      "text/html": [],
      "text/plain": [
       "<IPython.core.display.HTML object>"
      ]
     },
     "metadata": {},
     "output_type": "display_data"
    },
    {
     "name": "stderr",
     "output_type": "stream",
     "text": [
      "192.168.1.2 - - [01/Jun/2020 23:26:01] \"\u001b[37mPOST /uploader HTTP/1.1\u001b[0m\" 200 -\n"
     ]
    },
    {
     "name": "stdout",
     "output_type": "stream",
     "text": [
      "static/upload/1591034142381791849351682526519.jpg\n",
      "index:  0\n",
      "static/upload/20191116_194051.jpg\n",
      "index:  1\n",
      "static/upload/20200414_144759.jpg\n",
      "index:  2\n",
      "static/upload/a.jpg\n",
      "index:  3\n",
      "static/upload/backpack.png\n",
      "index:  4\n",
      "static/upload/dress2.jpeg\n",
      "index:  5\n",
      "static/upload/dress3.jpeg\n",
      "index:  6\n",
      "static/upload/dress6.jpg\n",
      "index:  7\n",
      "static/upload/IMG-20191116-WA0027.jpg\n",
      "index:  8\n",
      "dict-->  {0: [PosixPath('static/upload/1591034142381791849351682526519.jpg'), 'NA', 'NA', '1.Tshirts-Men - 21.00%\\n\\n2.Wallets-Men - 8.00%\\n\\n3.Shirts-Men - 6.00%\\n\\n'], 1: [PosixPath('static/upload/20191116_194051.jpg'), 'NA', 'NA', '1.Tshirts-Men - 16.00%\\n\\n2.Handbags-Women - 13.00%\\n\\n3.Watches-Men - 11.00%\\n\\n'], 2: [PosixPath('static/upload/20200414_144759.jpg'), 'NA', 'NA', '1.Tshirts-Men - 49.00%\\n\\n2.Shirts-Men - 35.00%\\n\\n3.Sarees-Women - 2.00%\\n\\n'], 3: [PosixPath('static/upload/a.jpg'), 'NA', 'NA', '1.Tshirts-Men - 68.00%\\n\\n2.Shirts-Men - 19.00%\\n\\n3.Jackets-Men-Topwear - 10.00%\\n\\n'], 4: [PosixPath('static/upload/backpack.png'), 'Backpacks-Unisex', '98.67%', '1.Backpacks-Unisex - 99.00%\\n\\n2.Backpacks-Men - 1.00%\\n\\n3.Sweatshirts-Men - 0.00%\\n\\n'], 5: [PosixPath('static/upload/dress2.jpeg'), 'NA', 'NA', '1.Shirts-Women - 14.00%\\n\\n2.Kurtas-Women-Topwear - 13.00%\\n\\n3.Sarees-Women - 12.00%\\n\\n'], 6: [PosixPath('static/upload/dress3.jpeg'), 'NA', 'NA', '1.Shirts-Men - 31.00%\\n\\n2.Backpacks-Unisex - 16.00%\\n\\n3.Watches-Men - 16.00%\\n\\n'], 7: [PosixPath('static/upload/dress6.jpg'), 'NA', 'NA', '1.Sarees-Women - 38.00%\\n\\n2.Backpacks-Unisex - 16.00%\\n\\n3.Sports Shoes-Footwear - 9.00%\\n\\n'], 8: [PosixPath('static/upload/IMG-20191116-WA0027.jpg'), 'Shirts-Men', '86.91%', '1.Shirts-Men - 87.00%\\n\\n2.Tshirts-Men - 8.00%\\n\\n3.Shirts-Women - 2.00%\\n\\n']}\n"
     ]
    },
    {
     "name": "stderr",
     "output_type": "stream",
     "text": [
      "192.168.1.2 - - [01/Jun/2020 23:26:01] \"\u001b[37mGET /static/upload/1591034142381791849351682526519.jpg HTTP/1.1\u001b[0m\" 200 -\n"
     ]
    },
    {
     "name": "stdout",
     "output_type": "stream",
     "text": [
      "img_list_loader.items:  [PosixPath('static/upload/1591034142381791849351682526519.jpg')\n",
      " PosixPath('static/upload/15910341972737756845233484345810.jpg') PosixPath('static/upload/20191116_194051.jpg')\n",
      " PosixPath('static/upload/20200414_144759.jpg') PosixPath('static/upload/a.jpg')\n",
      " PosixPath('static/upload/backpack.png') PosixPath('static/upload/dress2.jpeg') PosixPath('static/upload/dress3.jpeg')\n",
      " PosixPath('static/upload/dress6.jpg') PosixPath('static/upload/IMG-20191116-WA0027.jpg')]\n"
     ]
    },
    {
     "data": {
      "text/html": [],
      "text/plain": [
       "<IPython.core.display.HTML object>"
      ]
     },
     "metadata": {},
     "output_type": "display_data"
    },
    {
     "name": "stderr",
     "output_type": "stream",
     "text": [
      "192.168.1.2 - - [01/Jun/2020 23:27:23] \"\u001b[37mPOST /uploader HTTP/1.1\u001b[0m\" 200 -\n"
     ]
    },
    {
     "name": "stdout",
     "output_type": "stream",
     "text": [
      "static/upload/1591034142381791849351682526519.jpg\n",
      "index:  0\n",
      "static/upload/15910341972737756845233484345810.jpg\n",
      "index:  1\n",
      "static/upload/20191116_194051.jpg\n",
      "index:  2\n",
      "static/upload/20200414_144759.jpg\n",
      "index:  3\n",
      "static/upload/a.jpg\n",
      "index:  4\n",
      "static/upload/backpack.png\n",
      "index:  5\n",
      "static/upload/dress2.jpeg\n",
      "index:  6\n",
      "static/upload/dress3.jpeg\n",
      "index:  7\n",
      "static/upload/dress6.jpg\n",
      "index:  8\n",
      "static/upload/IMG-20191116-WA0027.jpg\n",
      "index:  9\n",
      "dict-->  {0: [PosixPath('static/upload/1591034142381791849351682526519.jpg'), 'NA', 'NA', '1.Tshirts-Men - 21.00%\\n\\n2.Wallets-Men - 8.00%\\n\\n3.Shirts-Men - 6.00%\\n\\n'], 1: [PosixPath('static/upload/15910341972737756845233484345810.jpg'), 'NA', 'NA', '1.Tshirts-Men - 69.00%\\n\\n2.Shirts-Women - 8.00%\\n\\n3.Watches-Men - 5.00%\\n\\n'], 2: [PosixPath('static/upload/20191116_194051.jpg'), 'NA', 'NA', '1.Tshirts-Men - 16.00%\\n\\n2.Handbags-Women - 13.00%\\n\\n3.Watches-Men - 11.00%\\n\\n'], 3: [PosixPath('static/upload/20200414_144759.jpg'), 'NA', 'NA', '1.Tshirts-Men - 49.00%\\n\\n2.Shirts-Men - 35.00%\\n\\n3.Sarees-Women - 2.00%\\n\\n'], 4: [PosixPath('static/upload/a.jpg'), 'NA', 'NA', '1.Tshirts-Men - 68.00%\\n\\n2.Shirts-Men - 19.00%\\n\\n3.Jackets-Men-Topwear - 10.00%\\n\\n'], 5: [PosixPath('static/upload/backpack.png'), 'Backpacks-Unisex', '98.67%', '1.Backpacks-Unisex - 99.00%\\n\\n2.Backpacks-Men - 1.00%\\n\\n3.Sweatshirts-Men - 0.00%\\n\\n'], 6: [PosixPath('static/upload/dress2.jpeg'), 'NA', 'NA', '1.Shirts-Women - 14.00%\\n\\n2.Kurtas-Women-Topwear - 13.00%\\n\\n3.Sarees-Women - 12.00%\\n\\n'], 7: [PosixPath('static/upload/dress3.jpeg'), 'NA', 'NA', '1.Shirts-Men - 31.00%\\n\\n2.Backpacks-Unisex - 16.00%\\n\\n3.Watches-Men - 16.00%\\n\\n'], 8: [PosixPath('static/upload/dress6.jpg'), 'NA', 'NA', '1.Sarees-Women - 38.00%\\n\\n2.Backpacks-Unisex - 16.00%\\n\\n3.Sports Shoes-Footwear - 9.00%\\n\\n'], 9: [PosixPath('static/upload/IMG-20191116-WA0027.jpg'), 'Shirts-Men', '86.91%', '1.Shirts-Men - 87.00%\\n\\n2.Tshirts-Men - 8.00%\\n\\n3.Shirts-Women - 2.00%\\n\\n']}\n"
     ]
    },
    {
     "name": "stderr",
     "output_type": "stream",
     "text": [
      "192.168.1.2 - - [01/Jun/2020 23:27:23] \"\u001b[37mGET /static/upload/15910341972737756845233484345810.jpg HTTP/1.1\u001b[0m\" 200 -\n"
     ]
    },
    {
     "name": "stdout",
     "output_type": "stream",
     "text": [
      "img_list_loader.items:  [PosixPath('static/upload/1591034142381791849351682526519.jpg')\n",
      " PosixPath('static/upload/15910341972737756845233484345810.jpg')\n",
      " PosixPath('static/upload/15910342620862536902274900982373.jpg') PosixPath('static/upload/20191116_194051.jpg')\n",
      " PosixPath('static/upload/20200414_144759.jpg') PosixPath('static/upload/a.jpg')\n",
      " PosixPath('static/upload/backpack.png') PosixPath('static/upload/dress2.jpeg') PosixPath('static/upload/dress3.jpeg')\n",
      " PosixPath('static/upload/dress6.jpg') PosixPath('static/upload/IMG-20191116-WA0027.jpg')]\n"
     ]
    },
    {
     "data": {
      "text/html": [],
      "text/plain": [
       "<IPython.core.display.HTML object>"
      ]
     },
     "metadata": {},
     "output_type": "display_data"
    },
    {
     "name": "stderr",
     "output_type": "stream",
     "text": [
      "192.168.1.2 - - [01/Jun/2020 23:28:08] \"\u001b[37mPOST /uploader HTTP/1.1\u001b[0m\" 200 -\n"
     ]
    },
    {
     "name": "stdout",
     "output_type": "stream",
     "text": [
      "static/upload/1591034142381791849351682526519.jpg\n",
      "index:  0\n",
      "static/upload/15910341972737756845233484345810.jpg\n",
      "index:  1\n",
      "static/upload/15910342620862536902274900982373.jpg\n",
      "index:  2\n",
      "static/upload/20191116_194051.jpg\n",
      "index:  3\n",
      "static/upload/20200414_144759.jpg\n",
      "index:  4\n",
      "static/upload/a.jpg\n",
      "index:  5\n",
      "static/upload/backpack.png\n",
      "index:  6\n",
      "static/upload/dress2.jpeg\n",
      "index:  7\n",
      "static/upload/dress3.jpeg\n",
      "index:  8\n",
      "static/upload/dress6.jpg\n",
      "index:  9\n",
      "static/upload/IMG-20191116-WA0027.jpg\n",
      "index:  10\n",
      "dict-->  {0: [PosixPath('static/upload/1591034142381791849351682526519.jpg'), 'NA', 'NA', '1.Tshirts-Men - 21.00%\\n\\n2.Wallets-Men - 8.00%\\n\\n3.Shirts-Men - 6.00%\\n\\n'], 1: [PosixPath('static/upload/15910341972737756845233484345810.jpg'), 'NA', 'NA', '1.Tshirts-Men - 69.00%\\n\\n2.Shirts-Women - 8.00%\\n\\n3.Watches-Men - 5.00%\\n\\n'], 2: [PosixPath('static/upload/15910342620862536902274900982373.jpg'), 'NA', 'NA', '1.Tshirts-Men - 64.00%\\n\\n2.Backpacks-Unisex - 24.00%\\n\\n3.Shirts-Men - 7.00%\\n\\n'], 3: [PosixPath('static/upload/20191116_194051.jpg'), 'NA', 'NA', '1.Tshirts-Men - 16.00%\\n\\n2.Handbags-Women - 13.00%\\n\\n3.Watches-Men - 11.00%\\n\\n'], 4: [PosixPath('static/upload/20200414_144759.jpg'), 'NA', 'NA', '1.Tshirts-Men - 49.00%\\n\\n2.Shirts-Men - 35.00%\\n\\n3.Sarees-Women - 2.00%\\n\\n'], 5: [PosixPath('static/upload/a.jpg'), 'NA', 'NA', '1.Tshirts-Men - 68.00%\\n\\n2.Shirts-Men - 19.00%\\n\\n3.Jackets-Men-Topwear - 10.00%\\n\\n'], 6: [PosixPath('static/upload/backpack.png'), 'Backpacks-Unisex', '98.67%', '1.Backpacks-Unisex - 99.00%\\n\\n2.Backpacks-Men - 1.00%\\n\\n3.Sweatshirts-Men - 0.00%\\n\\n'], 7: [PosixPath('static/upload/dress2.jpeg'), 'NA', 'NA', '1.Shirts-Women - 14.00%\\n\\n2.Kurtas-Women-Topwear - 13.00%\\n\\n3.Sarees-Women - 12.00%\\n\\n'], 8: [PosixPath('static/upload/dress3.jpeg'), 'NA', 'NA', '1.Shirts-Men - 31.00%\\n\\n2.Backpacks-Unisex - 16.00%\\n\\n3.Watches-Men - 16.00%\\n\\n'], 9: [PosixPath('static/upload/dress6.jpg'), 'NA', 'NA', '1.Sarees-Women - 38.00%\\n\\n2.Backpacks-Unisex - 16.00%\\n\\n3.Sports Shoes-Footwear - 9.00%\\n\\n'], 10: [PosixPath('static/upload/IMG-20191116-WA0027.jpg'), 'Shirts-Men', '86.91%', '1.Shirts-Men - 87.00%\\n\\n2.Tshirts-Men - 8.00%\\n\\n3.Shirts-Women - 2.00%\\n\\n']}\n"
     ]
    },
    {
     "name": "stderr",
     "output_type": "stream",
     "text": [
      "192.168.1.2 - - [01/Jun/2020 23:28:08] \"\u001b[37mGET /static/upload/15910342620862536902274900982373.jpg HTTP/1.1\u001b[0m\" 200 -\n"
     ]
    },
    {
     "name": "stdout",
     "output_type": "stream",
     "text": [
      "img_list_loader.items:  [PosixPath('static/upload/1591034142381791849351682526519.jpg')\n",
      " PosixPath('static/upload/15910341972737756845233484345810.jpg')\n",
      " PosixPath('static/upload/15910342620862536902274900982373.jpg')\n",
      " PosixPath('static/upload/15910342999997474710450591521540.jpg') PosixPath('static/upload/20191116_194051.jpg')\n",
      " PosixPath('static/upload/20200414_144759.jpg') PosixPath('static/upload/a.jpg')\n",
      " PosixPath('static/upload/backpack.png') PosixPath('static/upload/dress2.jpeg') PosixPath('static/upload/dress3.jpeg')\n",
      " PosixPath('static/upload/dress6.jpg') PosixPath('static/upload/IMG-20191116-WA0027.jpg')]\n"
     ]
    },
    {
     "data": {
      "text/html": [],
      "text/plain": [
       "<IPython.core.display.HTML object>"
      ]
     },
     "metadata": {},
     "output_type": "display_data"
    },
    {
     "name": "stderr",
     "output_type": "stream",
     "text": [
      "192.168.1.2 - - [01/Jun/2020 23:28:39] \"\u001b[37mPOST /uploader HTTP/1.1\u001b[0m\" 200 -\n"
     ]
    },
    {
     "name": "stdout",
     "output_type": "stream",
     "text": [
      "static/upload/1591034142381791849351682526519.jpg\n",
      "index:  0\n",
      "static/upload/15910341972737756845233484345810.jpg\n",
      "index:  1\n",
      "static/upload/15910342620862536902274900982373.jpg\n",
      "index:  2\n",
      "static/upload/15910342999997474710450591521540.jpg\n",
      "index:  3\n",
      "static/upload/20191116_194051.jpg\n",
      "index:  4\n",
      "static/upload/20200414_144759.jpg\n",
      "index:  5\n",
      "static/upload/a.jpg\n",
      "index:  6\n",
      "static/upload/backpack.png\n",
      "index:  7\n",
      "static/upload/dress2.jpeg\n",
      "index:  8\n",
      "static/upload/dress3.jpeg\n",
      "index:  9\n",
      "static/upload/dress6.jpg\n",
      "index:  10\n",
      "static/upload/IMG-20191116-WA0027.jpg\n",
      "index:  11\n",
      "dict-->  {0: [PosixPath('static/upload/1591034142381791849351682526519.jpg'), 'NA', 'NA', '1.Tshirts-Men - 21.00%\\n\\n2.Wallets-Men - 8.00%\\n\\n3.Shirts-Men - 6.00%\\n\\n'], 1: [PosixPath('static/upload/15910341972737756845233484345810.jpg'), 'NA', 'NA', '1.Tshirts-Men - 69.00%\\n\\n2.Shirts-Women - 8.00%\\n\\n3.Watches-Men - 5.00%\\n\\n'], 2: [PosixPath('static/upload/15910342620862536902274900982373.jpg'), 'NA', 'NA', '1.Tshirts-Men - 64.00%\\n\\n2.Backpacks-Unisex - 24.00%\\n\\n3.Shirts-Men - 7.00%\\n\\n'], 3: [PosixPath('static/upload/15910342999997474710450591521540.jpg'), 'Watches-Men', '88.04%', '1.Watches-Men - 88.00%\\n\\n2.Watches-Women - 8.00%\\n\\n3.Watches-Unisex - 2.00%\\n\\n'], 4: [PosixPath('static/upload/20191116_194051.jpg'), 'NA', 'NA', '1.Tshirts-Men - 16.00%\\n\\n2.Handbags-Women - 13.00%\\n\\n3.Watches-Men - 11.00%\\n\\n'], 5: [PosixPath('static/upload/20200414_144759.jpg'), 'NA', 'NA', '1.Tshirts-Men - 49.00%\\n\\n2.Shirts-Men - 35.00%\\n\\n3.Sarees-Women - 2.00%\\n\\n'], 6: [PosixPath('static/upload/a.jpg'), 'NA', 'NA', '1.Tshirts-Men - 68.00%\\n\\n2.Shirts-Men - 19.00%\\n\\n3.Jackets-Men-Topwear - 10.00%\\n\\n'], 7: [PosixPath('static/upload/backpack.png'), 'Backpacks-Unisex', '98.67%', '1.Backpacks-Unisex - 99.00%\\n\\n2.Backpacks-Men - 1.00%\\n\\n3.Sweatshirts-Men - 0.00%\\n\\n'], 8: [PosixPath('static/upload/dress2.jpeg'), 'NA', 'NA', '1.Shirts-Women - 14.00%\\n\\n2.Kurtas-Women-Topwear - 13.00%\\n\\n3.Sarees-Women - 12.00%\\n\\n'], 9: [PosixPath('static/upload/dress3.jpeg'), 'NA', 'NA', '1.Shirts-Men - 31.00%\\n\\n2.Backpacks-Unisex - 16.00%\\n\\n3.Watches-Men - 16.00%\\n\\n'], 10: [PosixPath('static/upload/dress6.jpg'), 'NA', 'NA', '1.Sarees-Women - 38.00%\\n\\n2.Backpacks-Unisex - 16.00%\\n\\n3.Sports Shoes-Footwear - 9.00%\\n\\n'], 11: [PosixPath('static/upload/IMG-20191116-WA0027.jpg'), 'Shirts-Men', '86.91%', '1.Shirts-Men - 87.00%\\n\\n2.Tshirts-Men - 8.00%\\n\\n3.Shirts-Women - 2.00%\\n\\n']}\n"
     ]
    },
    {
     "name": "stderr",
     "output_type": "stream",
     "text": [
      "192.168.1.2 - - [01/Jun/2020 23:28:39] \"\u001b[37mGET /static/upload/15910342999997474710450591521540.jpg HTTP/1.1\u001b[0m\" 200 -\n"
     ]
    },
    {
     "name": "stdout",
     "output_type": "stream",
     "text": [
      "img_list_loader.items:  [PosixPath('static/upload/1591034142381791849351682526519.jpg')\n",
      " PosixPath('static/upload/15910341972737756845233484345810.jpg')\n",
      " PosixPath('static/upload/15910342620862536902274900982373.jpg')\n",
      " PosixPath('static/upload/15910342999997474710450591521540.jpg') PosixPath('static/upload/20191116_194051.jpg')\n",
      " PosixPath('static/upload/20200414_144759.jpg') PosixPath('static/upload/a.jpg')\n",
      " PosixPath('static/upload/backpack.png') PosixPath('static/upload/dress2.jpeg') PosixPath('static/upload/dress3.jpeg')\n",
      " PosixPath('static/upload/dress6.jpg') PosixPath('static/upload/IMG-20191116-WA0027.jpg')]\n"
     ]
    },
    {
     "data": {
      "text/html": [],
      "text/plain": [
       "<IPython.core.display.HTML object>"
      ]
     },
     "metadata": {},
     "output_type": "display_data"
    },
    {
     "name": "stderr",
     "output_type": "stream",
     "text": [
      "127.0.0.1 - - [01/Jun/2020 23:29:47] \"\u001b[37mPOST /uploader HTTP/1.1\u001b[0m\" 200 -\n",
      "127.0.0.1 - - [01/Jun/2020 23:29:47] \"\u001b[37mGET /static/upload/1591034142381791849351682526519.jpg HTTP/1.1\u001b[0m\" 200 -\n",
      "127.0.0.1 - - [01/Jun/2020 23:29:47] \"\u001b[37mGET /static/upload/15910341972737756845233484345810.jpg HTTP/1.1\u001b[0m\" 200 -\n"
     ]
    },
    {
     "name": "stdout",
     "output_type": "stream",
     "text": [
      "static/upload/1591034142381791849351682526519.jpg\n",
      "index:  0\n",
      "static/upload/15910341972737756845233484345810.jpg\n",
      "index:  1\n",
      "static/upload/15910342620862536902274900982373.jpg\n",
      "index:  2\n",
      "static/upload/15910342999997474710450591521540.jpg\n",
      "index:  3\n",
      "static/upload/20191116_194051.jpg\n",
      "index:  4\n",
      "static/upload/20200414_144759.jpg\n",
      "index:  5\n",
      "static/upload/a.jpg\n",
      "index:  6\n",
      "static/upload/backpack.png\n",
      "index:  7\n",
      "static/upload/dress2.jpeg\n",
      "index:  8\n",
      "static/upload/dress3.jpeg\n",
      "index:  9\n",
      "static/upload/dress6.jpg\n",
      "index:  10\n",
      "static/upload/IMG-20191116-WA0027.jpg\n",
      "index:  11\n",
      "dict-->  {0: [PosixPath('static/upload/1591034142381791849351682526519.jpg'), 'NA', 'NA', '1.Tshirts-Men - 21.00%\\n\\n2.Wallets-Men - 8.00%\\n\\n3.Shirts-Men - 6.00%\\n\\n'], 1: [PosixPath('static/upload/15910341972737756845233484345810.jpg'), 'NA', 'NA', '1.Tshirts-Men - 69.00%\\n\\n2.Shirts-Women - 8.00%\\n\\n3.Watches-Men - 5.00%\\n\\n'], 2: [PosixPath('static/upload/15910342620862536902274900982373.jpg'), 'NA', 'NA', '1.Tshirts-Men - 64.00%\\n\\n2.Backpacks-Unisex - 24.00%\\n\\n3.Shirts-Men - 7.00%\\n\\n'], 3: [PosixPath('static/upload/15910342999997474710450591521540.jpg'), 'Watches-Men', '88.04%', '1.Watches-Men - 88.00%\\n\\n2.Watches-Women - 8.00%\\n\\n3.Watches-Unisex - 2.00%\\n\\n'], 4: [PosixPath('static/upload/20191116_194051.jpg'), 'NA', 'NA', '1.Tshirts-Men - 16.00%\\n\\n2.Handbags-Women - 13.00%\\n\\n3.Watches-Men - 11.00%\\n\\n'], 5: [PosixPath('static/upload/20200414_144759.jpg'), 'NA', 'NA', '1.Tshirts-Men - 49.00%\\n\\n2.Shirts-Men - 35.00%\\n\\n3.Sarees-Women - 2.00%\\n\\n'], 6: [PosixPath('static/upload/a.jpg'), 'NA', 'NA', '1.Tshirts-Men - 68.00%\\n\\n2.Shirts-Men - 19.00%\\n\\n3.Jackets-Men-Topwear - 10.00%\\n\\n'], 7: [PosixPath('static/upload/backpack.png'), 'Backpacks-Unisex', '98.67%', '1.Backpacks-Unisex - 99.00%\\n\\n2.Backpacks-Men - 1.00%\\n\\n3.Sweatshirts-Men - 0.00%\\n\\n'], 8: [PosixPath('static/upload/dress2.jpeg'), 'NA', 'NA', '1.Shirts-Women - 14.00%\\n\\n2.Kurtas-Women-Topwear - 13.00%\\n\\n3.Sarees-Women - 12.00%\\n\\n'], 9: [PosixPath('static/upload/dress3.jpeg'), 'NA', 'NA', '1.Shirts-Men - 31.00%\\n\\n2.Backpacks-Unisex - 16.00%\\n\\n3.Watches-Men - 16.00%\\n\\n'], 10: [PosixPath('static/upload/dress6.jpg'), 'NA', 'NA', '1.Sarees-Women - 38.00%\\n\\n2.Backpacks-Unisex - 16.00%\\n\\n3.Sports Shoes-Footwear - 9.00%\\n\\n'], 11: [PosixPath('static/upload/IMG-20191116-WA0027.jpg'), 'Shirts-Men', '86.91%', '1.Shirts-Men - 87.00%\\n\\n2.Tshirts-Men - 8.00%\\n\\n3.Shirts-Women - 2.00%\\n\\n']}\n"
     ]
    },
    {
     "name": "stderr",
     "output_type": "stream",
     "text": [
      "127.0.0.1 - - [01/Jun/2020 23:29:47] \"\u001b[37mGET /static/upload/15910342620862536902274900982373.jpg HTTP/1.1\u001b[0m\" 200 -\n",
      "127.0.0.1 - - [01/Jun/2020 23:29:47] \"\u001b[37mGET /static/upload/20191116_194051.jpg HTTP/1.1\u001b[0m\" 200 -\n",
      "127.0.0.1 - - [01/Jun/2020 23:29:47] \"\u001b[37mGET /static/upload/15910342999997474710450591521540.jpg HTTP/1.1\u001b[0m\" 200 -\n",
      "127.0.0.1 - - [01/Jun/2020 23:29:47] \"\u001b[37mGET /static/upload/20200414_144759.jpg HTTP/1.1\u001b[0m\" 200 -\n"
     ]
    }
   ],
   "source": [
    "#using load learner\n",
    "threshold = 85\n",
    "\n",
    "app = Flask(__name__)\n",
    "#run_with_ngrok(app)\n",
    "\n",
    "\n",
    "app.config[\"IMAGE_UPLOADS\"] = upload_path\n",
    "\n",
    "#Removing contents in upload folder\n",
    "delete_uploadfiles(upload_path)\n",
    "\n",
    "@app.route(\"/\")\n",
    "def index():\n",
    "    return render_template('index.html')\n",
    "\n",
    "@app.route('/uploader', methods = ['GET', 'POST'])\n",
    "def upload_file():\n",
    "    \n",
    "    if request.method == 'POST':\n",
    "\n",
    "\n",
    "        image = request.files['file']\n",
    "        filename = secure_filename(image.filename)\n",
    "        image.save(Path(app.config[\"IMAGE_UPLOADS\"]+\"/\"+ filename))\n",
    "\n",
    "        #print(\"Image saved\")\n",
    "        my_dict = {}\n",
    "        \n",
    "        img_list_loader = ImageList.from_folder(upload_path)\n",
    "        \n",
    "        if len(img_list_loader.items)>0:\n",
    "            print(\"img_list_loader.items: \",img_list_loader.items)\n",
    "            \n",
    "            load_model = load_learner(model, \n",
    "                                  test=img_list_loader)\n",
    "\n",
    "            preds,y = load_model.get_preds(ds_type=DatasetType.Test)\n",
    "            index =0\n",
    "            \n",
    "            for preds,img_src in zip(preds,img_list_loader.items):\n",
    "                print(img_src)\n",
    "                print(\"index: \",index)\n",
    "                idx=np.unravel_index(preds.numpy().argsort(axis=None), dims=preds.numpy().shape)\n",
    "                top_3_pred=idx[0][-3:]\n",
    "                top_pred=top_3_pred[-1]\n",
    "                top3_return_msg=\"\"\n",
    "                for i,val in enumerate(top_3_pred[::-1]):\n",
    "                    top3_return_msg +=str(str(i+1)+\".\"+str(get_label(val))+\" - {:.2f}%\\n\".format(np.round(preds[val].numpy()*100),2)+\"\\n\")\n",
    "\n",
    "                #print(return_msg)\n",
    "                if(np.round(preds[top_pred].numpy()*100,2)<threshold):\n",
    "                    custom_msg = \"NA\"\n",
    "                    Prediction_percent = \"NA\"\n",
    "                else:\n",
    "                    custom_msg= str(get_label(int(top_pred)))\n",
    "                    Prediction_percent = str(\"{:.2f}%\".format(np.round(preds[top_pred].numpy()*100,2)))\n",
    "\n",
    "                #reshaped_tensor=model_pred[2].unsqueeze(0)\n",
    "                #top_5_pred = print_top_3_pred(reshaped_tensor)\n",
    "\n",
    "                temp_val=[]\n",
    "                temp_val.append(img_src)\n",
    "                temp_val.append(custom_msg)\n",
    "                temp_val.append(Prediction_percent)\n",
    "                temp_val.append(top3_return_msg)\n",
    "\n",
    "                my_dict[index]=temp_val\n",
    "                index+=1\n",
    "\n",
    "            print(\"dict--> \",my_dict)\n",
    "            return render_template('result.html', mydict=my_dict)\n",
    "\n",
    "            \n",
    "        else:\n",
    "            return \"Invalid image\"\n",
    "\n",
    "        \n",
    "\n",
    "if __name__ == \"__main__\":\n",
    "  app.run(debug=False,host='0.0.0.0')\n",
    "\n"
   ]
  },
  {
   "cell_type": "code",
   "execution_count": null,
   "metadata": {},
   "outputs": [],
   "source": []
  }
 ],
 "metadata": {
  "kernelspec": {
   "display_name": "Python3",
   "language": "python",
   "name": "python3"
  },
  "language_info": {
   "codemirror_mode": {
    "name": "ipython",
    "version": 3
   },
   "file_extension": ".py",
   "mimetype": "text/x-python",
   "name": "python",
   "nbconvert_exporter": "python",
   "pygments_lexer": "ipython3",
   "version": "3.8.2"
  }
 },
 "nbformat": 4,
 "nbformat_minor": 4
}
