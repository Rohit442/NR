{
 "cells": [
  {
   "cell_type": "code",
   "execution_count": null,
   "metadata": {},
   "outputs": [],
   "source": [
    "from fastai.vision import load_learner,ImageList,DatasetType,open_image,Path\n",
    "import pandas as pd\n",
    "import warnings\n",
    "import numpy as np\n",
    "from flask import Flask, request, render_template\n",
    "from werkzeug.utils import secure_filename\n",
    "warnings.filterwarnings('ignore')\n",
    "\n",
    "upload_path = \"static/upload\"\n",
    "df= pd.read_csv('Training_labels/labels.csv',header=None)\n",
    "model= 'model'\n",
    "learn = load_learner(model)\n",
    "\n",
    "\n",
    "def get_label(predicted_class):\n",
    "    return df[0].iloc[predicted_class]\n",
    "    \n",
    "\n",
    "def print_top_3_pred(preds):\n",
    "    idx=np.unravel_index(preds.numpy().argsort(axis=None), dims=preds.numpy().shape)\n",
    "    top_3_pred=idx[1][-3:]\n",
    "    return_msg=\"\"\n",
    "    for i,val in enumerate(top_3_pred[::-1]):\n",
    "        return_msg +=str(str(i+1)+\".\"+str(get_label(val))+\" - {:.2f}%\\n\".format(np.round(preds[0][val].numpy()*100),2)+\"\\n\")\n",
    "        \n",
    "    return return_msg\n",
    "\n",
    "def delete_uploadfiles(upload_path):\n",
    "    for file in Path(upload_path).glob('*'):\n",
    "        try:\n",
    "            #print(\"deleted\",file)\n",
    "            file.unlink()\n",
    "            \n",
    "        except OSError as e:\n",
    "            print(\"Error: %s : %s\" % (f, e.strerror))\n",
    "    return True"
   ]
  },
  {
   "cell_type": "code",
   "execution_count": null,
   "metadata": {},
   "outputs": [],
   "source": [
    "\n",
    "app = Flask(__name__)\n",
    "#run_with_ngrok(app)\n",
    "\n",
    "\n",
    "app.config[\"IMAGE_UPLOADS\"] = upload_path\n",
    "\n",
    "#Removing contents in upload folder\n",
    "#delete_uploadfiles(upload_path)\n",
    "\n",
    "@app.route(\"/\")\n",
    "def index():\n",
    "    return render_template('index.html')\n",
    "\n",
    "@app.route('/uploader', methods = ['GET', 'POST'])\n",
    "def upload_file():\n",
    "    \n",
    "    if request.method == 'POST':\n",
    "\n",
    "\n",
    "        image = request.files['file']\n",
    "        filename = secure_filename(image.filename)\n",
    "        image.save(Path(app.config[\"IMAGE_UPLOADS\"]+\"/\"+ filename))\n",
    "\n",
    "        #print(\"Image saved\")\n",
    "        my_dict = {}\n",
    "        for index,file in enumerate(Path(upload_path).glob('*')):\n",
    "            \n",
    "            model_input=open_image(file)\n",
    "            \n",
    "            model_pred=learn.predict(model_input)\n",
    "            \n",
    "            if(np.round((model_pred[2][int(model_pred[1])]).numpy()*100,2)<85):\n",
    "                custom_msg = \"NA\"\n",
    "                Prediction_percent = \"NA\"\n",
    "            else:\n",
    "                custom_msg= str(str(get_label(int(model_pred[1]))))\n",
    "                Prediction_percent = str(\"{:.2f}%\".format(np.round((model_pred[2][int(model_pred[1])]).numpy()*100,2)))\n",
    "\n",
    "            reshaped_tensor=model_pred[2].unsqueeze(0)\n",
    "            top_5_pred = print_top_3_pred(reshaped_tensor)\n",
    "\n",
    "            temp_val=[]\n",
    "            temp_val.append(file)\n",
    "            temp_val.append(custom_msg)\n",
    "            temp_val.append(Prediction_percent)\n",
    "            temp_val.append(top_5_pred)\n",
    "\n",
    "            my_dict[index]=temp_val\n",
    "            \n",
    "        #print(\"dict--> \",my_dict)\n",
    "        return render_template('result.html', mydict=my_dict)\n",
    "\n",
    "        \n",
    "\n",
    "if __name__ == \"__main__\":\n",
    "  app.run(debug=False,host='0.0.0.0')\n",
    "\n"
   ]
  },
  {
   "cell_type": "code",
   "execution_count": null,
   "metadata": {},
   "outputs": [],
   "source": [
    "#img=open_image('/media/praveenkanna/Local disk/Workspace/Fashion_Classification-Myntra_Dataset/inputs/results51_0.png')\n",
    "#img=open_image('/media/praveenkanna/Local disk/Workspace/Fashion_Classification-Myntra_Dataset/inputs/dress2.jpeg') \n",
    "#img=open_image('/media/praveenkanna/Local disk/Workspace/Fashion_Classification-Myntra_Dataset/inputs/tshirt.jpeg') \n",
    "img=open_image('/media/praveenkanna/Local disk/Workspace/Fashion_Classification-Myntra_Dataset/inputs/dress10.jpeg') \n",
    "#img=open_image('/media/praveenkanna/Local disk/Workspace/Fashion_Classification-Myntra_Dataset/inputs/dress6.jpg') \n",
    "\n",
    "result=learn.predict(img)\n",
    "\n",
    "print(\"Predicted Class:\", get_label(int(result[1])))\n",
    "print(\"Probability:{:.2f}%\".format(np.round((result[2][int(result[1])]).numpy()*100,2)))\n",
    "\n",
    "print(\"\\nTop 5 prediction\")\n",
    "a=result[2].unsqueeze(0)\n",
    "print_top_5_pred(a)"
   ]
  },
  {
   "cell_type": "code",
   "execution_count": null,
   "metadata": {},
   "outputs": [],
   "source": [
    "img"
   ]
  },
  {
   "cell_type": "code",
   "execution_count": null,
   "metadata": {},
   "outputs": [],
   "source": []
  },
  {
   "cell_type": "code",
   "execution_count": null,
   "metadata": {},
   "outputs": [],
   "source": []
  },
  {
   "cell_type": "code",
   "execution_count": null,
   "metadata": {},
   "outputs": [],
   "source": [
    "s=Path('static/dress9.jpeg')\n",
    "open_image(s)"
   ]
  },
  {
   "cell_type": "code",
   "execution_count": null,
   "metadata": {},
   "outputs": [],
   "source": [
    "import cv2\n",
    "img_path=Path('static/upload/a.jpg')\n",
    "img=cv2.imread('static/upload/a.jpg')\n"
   ]
  },
  {
   "cell_type": "code",
   "execution_count": null,
   "metadata": {},
   "outputs": [],
   "source": [
    "open_image(img_path).shape"
   ]
  },
  {
   "cell_type": "code",
   "execution_count": null,
   "metadata": {},
   "outputs": [],
   "source": [
    "img.shape"
   ]
  },
  {
   "cell_type": "code",
   "execution_count": null,
   "metadata": {},
   "outputs": [],
   "source": [
    "image1=cv2.resize(img, (60, 60))  \n",
    "image1.shape"
   ]
  },
  {
   "cell_type": "code",
   "execution_count": null,
   "metadata": {},
   "outputs": [],
   "source": [
    "img2=image1.reshape(3,60,60)\n",
    "img2.shape"
   ]
  },
  {
   "cell_type": "code",
   "execution_count": null,
   "metadata": {},
   "outputs": [],
   "source": [
    "cv2.imwrite(\"temp/new_a.jpg\",image1)"
   ]
  },
  {
   "cell_type": "code",
   "execution_count": null,
   "metadata": {},
   "outputs": [],
   "source": [
    "ImageList.from_folder('/media/praveenkanna/Local disk/Workspace/Fashion_Classification-Myntra_Dataset/inputs')"
   ]
  },
  {
   "cell_type": "code",
   "execution_count": null,
   "metadata": {},
   "outputs": [],
   "source": [
    "load_learner??"
   ]
  },
  {
   "cell_type": "code",
   "execution_count": null,
   "metadata": {},
   "outputs": [],
   "source": [
    "DatasetType.Test"
   ]
  },
  {
   "cell_type": "code",
   "execution_count": null,
   "metadata": {},
   "outputs": [],
   "source": [
    "b = ImageList.from_folder('/media/praveenkanna/Local disk/Workspace/Fashion_Classification-Myntra_Dataset/temp')\n",
    "\n",
    "for i in b:\n",
    "    print(i)\n",
    "    "
   ]
  },
  {
   "cell_type": "code",
   "execution_count": null,
   "metadata": {},
   "outputs": [],
   "source": [
    "learn1 = load_learner(model, \n",
    "                      test=ImageList.from_folder('/media/praveenkanna/Local disk/Workspace/Fashion_Classification-Myntra_Dataset/temp'))"
   ]
  },
  {
   "cell_type": "code",
   "execution_count": null,
   "metadata": {},
   "outputs": [],
   "source": [
    "preds,y = learn1.get_preds(ds_type=DatasetType.Test)\n",
    "preds"
   ]
  },
  {
   "cell_type": "code",
   "execution_count": null,
   "metadata": {},
   "outputs": [],
   "source": [
    "y"
   ]
  },
  {
   "cell_type": "code",
   "execution_count": null,
   "metadata": {},
   "outputs": [],
   "source": [
    "preds[0]"
   ]
  },
  {
   "cell_type": "code",
   "execution_count": null,
   "metadata": {},
   "outputs": [],
   "source": [
    "ix = np.unravel_index(a.argsort(axis=None), dims=a.shape)\n",
    "ix"
   ]
  },
  {
   "cell_type": "code",
   "execution_count": null,
   "metadata": {},
   "outputs": [],
   "source": [
    "top_5_pred=ix[1][-5:]"
   ]
  },
  {
   "cell_type": "code",
   "execution_count": null,
   "metadata": {},
   "outputs": [],
   "source": [
    "preds[0][55]"
   ]
  },
  {
   "cell_type": "code",
   "execution_count": null,
   "metadata": {},
   "outputs": [],
   "source": [
    "def print_top_5_pred(preds):\n",
    "    idx=np.unravel_index(preds.numpy().argsort(axis=None), dims=preds.numpy().shape)\n",
    "    top_5_pred=idx[1][-5:]\n",
    "    for i,val in enumerate(top_5_pred[::-1]):\n",
    "        print(\"\\n\",i+1,\":\",get_label(val),\"\\nProbability:\",preds[0][val])\n",
    "print_top_5_pred(preds)   "
   ]
  },
  {
   "cell_type": "code",
   "execution_count": null,
   "metadata": {},
   "outputs": [],
   "source": [
    "img"
   ]
  },
  {
   "cell_type": "code",
   "execution_count": null,
   "metadata": {},
   "outputs": [],
   "source": [
    "a=result[2].unsqueeze(0)\n",
    "print_top_5_pred(a) "
   ]
  },
  {
   "cell_type": "code",
   "execution_count": null,
   "metadata": {},
   "outputs": [],
   "source": [
    "learn1"
   ]
  },
  {
   "cell_type": "code",
   "execution_count": null,
   "metadata": {},
   "outputs": [],
   "source": [
    "#model_input=open_image(file)\n",
    "\n",
    "            \n",
    "model_pred=learn.predict(model_input)\n",
    "\n",
    "if(np.round((model_pred[2][int(model_pred[1])]).numpy()*100,2)<85):\n",
    "    custom_msg = \"NA\"\n",
    "    Prediction_percent = \"NA\"\n",
    "else:\n",
    "    custom_msg= str(str(get_label(int(model_pred[1]))))\n",
    "    Prediction_percent = str(\"{:.2f}%\".format(np.round((model_pred[2][int(model_pred[1])]).numpy()*100,2)))\n",
    "\n",
    "reshaped_tensor=model_pred[2].unsqueeze(0)\n",
    "top_5_pred = print_top_3_pred(reshaped_tensor)\n",
    "\n",
    "temp_val=[]\n",
    "temp_val.append(file)\n",
    "temp_val.append(custom_msg)\n",
    "temp_val.append(Prediction_percent)"
   ]
  },
  {
   "cell_type": "code",
   "execution_count": null,
   "metadata": {},
   "outputs": [],
   "source": [
    "#print_top_3_pred(preds[0])\n",
    "img_list_loader = ImageList.from_folder('temp')\n",
    "learn1 = load_learner(model, \n",
    "                      test=img_list_loader)\n",
    "\n",
    "preds,y = learn1.get_preds(ds_type=DatasetType.Test)\n",
    "\n",
    "for preds,img_src in zip(preds,img_list_loader.items):\n",
    "    print(img_src)\n",
    "    idx=np.unravel_index(preds.numpy().argsort(axis=None), dims=preds.numpy().shape)\n",
    "    top_3_pred=idx[0][-3:]\n",
    "    return_msg=\"\"\n",
    "    for i,val in enumerate(top_3_pred[::-1]):\n",
    "        return_msg +=str(str(i+1)+\".\"+str(get_label(val))+\" - {:.2f}%\\n\".format(np.round(preds[val].numpy()*100),2)+\"\\n\")\n",
    "\n",
    "    print(return_msg)"
   ]
  },
  {
   "cell_type": "code",
   "execution_count": null,
   "metadata": {},
   "outputs": [],
   "source": [
    "top_3_pred"
   ]
  },
  {
   "cell_type": "code",
   "execution_count": null,
   "metadata": {},
   "outputs": [],
   "source": [
    "img_list=ImageList.from_folder('/media/praveenkanna/Local disk/Workspace/Fashion_Classification-Myntra_Dataset/temp')"
   ]
  },
  {
   "cell_type": "code",
   "execution_count": null,
   "metadata": {},
   "outputs": [],
   "source": [
    "img_list_loader.items"
   ]
  },
  {
   "cell_type": "code",
   "execution_count": null,
   "metadata": {},
   "outputs": [],
   "source": [
    "img_list_loader = ImageList.from_folder('temp')\n",
    "learn1 = load_learner(model, \n",
    "                      test=img_list_loader)\n",
    "learn1"
   ]
  },
  {
   "cell_type": "code",
   "execution_count": null,
   "metadata": {},
   "outputs": [],
   "source": [
    "if len(img_list_loader.items)>0:\n",
    "    print(\"true\")\n",
    "else:\n",
    "    print(\"no\")"
   ]
  },
  {
   "cell_type": "code",
   "execution_count": null,
   "metadata": {},
   "outputs": [],
   "source": [
    "top_3_pred[-1]"
   ]
  },
  {
   "cell_type": "code",
   "execution_count": 1,
   "metadata": {},
   "outputs": [
    {
     "name": "stdout",
     "output_type": "stream",
     "text": [
      "Writing app.py\n"
     ]
    }
   ],
   "source": [
    "%%writefile app.py\n",
    "\n",
    "#importing dependency\n",
    "from fastai.vision import load_learner,ImageList,DatasetType,open_image,Path\n",
    "import pandas as pd\n",
    "import warnings\n",
    "import numpy as np\n",
    "from flask import Flask, request, render_template\n",
    "from werkzeug.utils import secure_filename\n",
    "warnings.filterwarnings('ignore')\n",
    "\n",
    "#config\n",
    "upload_path = \"static/upload\"\n",
    "label_path = 'Training_labels/labels.csv'\n",
    "model_path = 'model'\n",
    "threshold = 85\n",
    "\n",
    "\n",
    "\n",
    "def get_label(predicted_class):\n",
    "    return df[0].iloc[predicted_class]\n",
    "    \n",
    "\n",
    "def print_top_3_pred(preds):\n",
    "    idx=np.unravel_index(preds.numpy().argsort(axis=None), dims=preds.numpy().shape)\n",
    "    top_3_pred=idx[0][-3:]\n",
    "    top_pred=top_3_pred[-1]\n",
    "    top3_return_msg=\"\"\n",
    "    for i,val in enumerate(top_3_pred[::-1]):\n",
    "        top3_return_msg +=str(str(i+1)\n",
    "                              +\".\"\n",
    "                              +str(get_label(val))\n",
    "                              +\" - {:.2f}%\\n\".format(np.round(preds[val].numpy()*100),2)\n",
    "                              +\"\\n\")\n",
    "       \n",
    "    return top3_return_msg,top_pred\n",
    "\n",
    "def delete_uploadfiles(upload_path):\n",
    "    for file in Path(upload_path).glob('*'):\n",
    "        try:\n",
    "            file.unlink()\n",
    "            \n",
    "        except OSError as e:\n",
    "            print(\"Error: %s : %s\" % (f, e.strerror))\n",
    "    return True\n",
    "\n",
    "\n",
    "\n",
    "\n",
    "\n",
    "#Reading labels\n",
    "df= pd.read_csv(label_path,header=None)\n",
    "\n",
    "#assigning model\n",
    "model= model_path\n",
    "#learn = load_learner(model)\n",
    "\n",
    "app = Flask(__name__)\n",
    "app.config[\"IMAGE_UPLOADS\"] = upload_path\n",
    "\n",
    "#Removing contents in upload folder\n",
    "delete_uploadfiles(upload_path)\n",
    "\n",
    "@app.route(\"/\")\n",
    "def index():\n",
    "    delete_uploadfiles(upload_path)\n",
    "    return render_template('index.html')\n",
    "\n",
    "@app.route('/uploader', methods = ['GET', 'POST'])\n",
    "def upload_file():\n",
    "    \n",
    "    if request.method == 'POST':\n",
    "        image = request.files['file']\n",
    "        filename = secure_filename(image.filename)\n",
    "        \n",
    "        #saving file in upload path\n",
    "        image.save(Path(app.config[\"IMAGE_UPLOADS\"]+\"/\"+ filename))\n",
    "\n",
    "        my_dict = {}\n",
    "        #loading images from upload path      \n",
    "        img_list_loader = ImageList.from_folder(upload_path)\n",
    "        \n",
    "        #Checking if valid images are uploaded\n",
    "        if len(img_list_loader.items)>0:\n",
    "            #loading model\n",
    "            load_model = load_learner(model, \n",
    "                                  test=img_list_loader)\n",
    "            #running inference\n",
    "            preds,y = load_model.get_preds(ds_type=DatasetType.Test)\n",
    "            index =0\n",
    "            \n",
    "            #Processing results for UI\n",
    "            for preds,img_src in zip(preds,img_list_loader.items):\n",
    "\n",
    "                top3_return_msg,top_pred = print_top_3_pred(preds)\n",
    "                \n",
    "                if(np.round(preds[top_pred].numpy()*100,2)<threshold):\n",
    "                    custom_msg = \"NA\"\n",
    "                    Prediction_percent = \"NA\"\n",
    "                else:\n",
    "                    custom_msg= str(get_label(int(top_pred)))\n",
    "                    Prediction_percent = str(\"{:.2f}%\".format(np.round(preds[top_pred].numpy()*100,2)))\n",
    "\n",
    "                temp_val=[]\n",
    "                temp_val.append(img_src)\n",
    "                temp_val.append(custom_msg)\n",
    "                temp_val.append(Prediction_percent)\n",
    "                temp_val.append(top3_return_msg)\n",
    "\n",
    "                my_dict[index]=temp_val\n",
    "                index+=1\n",
    "\n",
    "            return render_template('result.html', mydict=my_dict)\n",
    "\n",
    "            \n",
    "        elif len(img_list_loader.items)== 0:\n",
    "            return \"ERROR: Invalid image. Go back to upload new image\"\n",
    "\n",
    "        \n",
    "\n",
    "if __name__ == \"__main__\":\n",
    "  app.run(debug=False,host='0.0.0.0')\n",
    "\n"
   ]
  },
  {
   "cell_type": "code",
   "execution_count": null,
   "metadata": {},
   "outputs": [],
   "source": []
  }
 ],
 "metadata": {
  "kernelspec": {
   "display_name": "Python3",
   "language": "python",
   "name": "python3"
  },
  "language_info": {
   "codemirror_mode": {
    "name": "ipython",
    "version": 3
   },
   "file_extension": ".py",
   "mimetype": "text/x-python",
   "name": "python",
   "nbconvert_exporter": "python",
   "pygments_lexer": "ipython3",
   "version": "3.8.2"
  }
 },
 "nbformat": 4,
 "nbformat_minor": 4
}
