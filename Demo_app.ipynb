{
  "cells": [
    {
      "cell_type": "markdown",
      "metadata": {
        "id": "view-in-github",
        "colab_type": "text"
      },
      "source": [
        "<a href=\"https://colab.research.google.com/github/jpraveenkanna/Fashion_Classification-Myntra_Dataset/blob/master/Demo_app.ipynb\" target=\"_parent\"><img src=\"https://colab.research.google.com/assets/colab-badge.svg\" alt=\"Open In Colab\"/></a>"
      ]
    },
    {
      "cell_type": "code",
      "metadata": {
        "id": "Nzsdc3PdEyHR",
        "colab_type": "code",
        "colab": {}
      },
      "source": [
        "# Clone github Repo and download the model\n",
        "\n",
        "!git clone 'https://github.com/jpraveenkanna/Fashion_Classification-Myntra_Dataset.git'\n",
        "print(\"Repo cloned\")\n",
        "%cd '/content/Fashion_Classification-Myntra_Dataset'\n",
        "\n",
        "#Downloading model from https://www.kaggle.com/jpraveenkanna/fashion-classification/output?select=export.pkl\n",
        "!wget \"https://www.kaggleusercontent.com/kf/35246072/eyJhbGciOiJkaXIiLCJlbmMiOiJBMTI4Q0JDLUhTMjU2In0..fTiqOHOefvz1js7bFtB2fQ.Mv6VAJso5u_6NSgGWBrpzrJraF7pggR_P2elikVYsX4-mUdVK6RvHtjqxUt2BqEFhZ0qDYVCOCS--lg70NJal5qJxSsrqiovRlvO1BEy2umoPYbHT5x1-DDnHtvlS6GQTb1nB770W3ta-uCs8RGkHrKjj_5HZoT0PHAjTSD7w2horGctcS0r9OOJ3LKzQS7fhnVkLtR38BLKMEoUhPeGC5PCFbbduWhrcIZkZS0XrOgG_KmEC-YCzZuzHKS6ApJ6DCRhxXy2E2I-WFFuhg9Vy-P2SggM_cuAKBhNxZ3l-RU5yVgUEJepo5BSyhfyYxXdK-q4jkTknuPvv-8PWOiFMZIzgXmlixIm5ylEBxrfk4LtLpDu6x5aoAAIpBEbrDAJh2QH7nKDriFLmnCTf5EA6GVXcg7pRdQvlXB7rBHfZzKuTxRMD7ar4_BYBltSKzEu4Hru2X4gb-46J4QPDEqoC0Lv6ka1RX9lHrX7sdD5HKbo8VsIcsn8LK0bZsOntRaruw9bqtdl-P3xUP5eM4YXywzAdOPNujtW1zdJ5tdNgx-btzUMPZfZ-_uO39q8UE0e11TrBUGZfKT0pBtOv5p1iJHinG6GfBVKo9APMfkFmOb7rbmv-pgkHMOdZKvmUHK6BTc4irMQABjSz6_hxXsdYQUPR4XUw3xhumbOyWRH84g.2Yt1h4e6PFexDhMYE808cw/export.pkl\" -P '/content/Fashion_Classification-Myntra_Dataset/model'\n",
        "print(\"Downloaded and save the model\")\n",
        "!pip install flask-ngrok"
      ],
      "execution_count": 0,
      "outputs": []
    },
    {
      "cell_type": "markdown",
      "metadata": {
        "id": "Yaiy4vwJvsNA",
        "colab_type": "text"
      },
      "source": [
        "# Running inference via internet URL"
      ]
    },
    {
      "cell_type": "code",
      "metadata": {
        "id": "0ARtItx_oVm_",
        "colab_type": "code",
        "colab": {}
      },
      "source": [
        "'''\n",
        " The random internet URL will be generated\n",
        " The URL ends with ngrok.io \n",
        " Click on that URL to access UI \n",
        " Eg: http://6e5734366341.ngrok.io\n",
        " \n",
        " Note: To stop the UI this cell needs to interepted\n",
        "'''\n",
        "!python app-ngrok.py"
      ],
      "execution_count": 0,
      "outputs": []
    },
    {
      "cell_type": "markdown",
      "metadata": {
        "id": "JNOzC0EKw4em",
        "colab_type": "text"
      },
      "source": [
        "# Running inference via LAN URL"
      ]
    },
    {
      "cell_type": "code",
      "metadata": {
        "id": "hrEC6FJQBn0n",
        "colab_type": "code",
        "colab": {}
      },
      "source": [
        "'''\n",
        "The app runs on http://0.0.0.0:5000/\n",
        "This URL is accessible within local machine.\n",
        "\n",
        "To access the URL from other machines for instance mobile \n",
        "Replace the IP with the local machine LAN IP\n",
        "Eg: http://192.168.1.9:5000/\n",
        "\n",
        " \n",
        "Note: To stop the UI this cell needs to interepted\n",
        "'''\n",
        "\n",
        "!python app.py"
      ],
      "execution_count": 0,
      "outputs": []
    }
  ],
  "metadata": {
    "kernelspec": {
      "display_name": "Python3",
      "language": "python",
      "name": "python3"
    },
    "language_info": {
      "codemirror_mode": {
        "name": "ipython",
        "version": 3
      },
      "file_extension": ".py",
      "mimetype": "text/x-python",
      "name": "python",
      "nbconvert_exporter": "python",
      "pygments_lexer": "ipython3",
      "version": "3.8.2"
    },
    "colab": {
      "name": "Demo_app.ipynb",
      "provenance": [],
      "include_colab_link": true
    }
  },
  "nbformat": 4,
  "nbformat_minor": 0
}